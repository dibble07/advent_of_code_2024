{
 "cells": [
  {
   "cell_type": "code",
   "execution_count": null,
   "metadata": {},
   "outputs": [],
   "source": [
    "import numpy as np\n",
    "from tqdm.auto import tqdm"
   ]
  },
  {
   "cell_type": "code",
   "execution_count": null,
   "metadata": {},
   "outputs": [],
   "source": [
    "def is_valid_index(array, index):\n",
    "    return (index >= 0).all() and (index < array.shape).all()"
   ]
  },
  {
   "cell_type": "code",
   "execution_count": null,
   "metadata": {},
   "outputs": [],
   "source": [
    "def set_step(array_ref, array, index, value):\n",
    "    if is_valid_index(array, index):\n",
    "        if array_ref[*index] == value:\n",
    "            array[*index] = value"
   ]
  },
  {
   "cell_type": "markdown",
   "metadata": {},
   "source": [
    "## Part 1"
   ]
  },
  {
   "cell_type": "code",
   "execution_count": null,
   "metadata": {},
   "outputs": [],
   "source": [
    "with open(\"data/day10/input.txt\", \"r\") as file:\n",
    "    map_raw = file.read()"
   ]
  },
  {
   "cell_type": "code",
   "execution_count": null,
   "metadata": {},
   "outputs": [],
   "source": [
    "map_top = np.array([[int(y) for y in x] for x in map_raw.split(\"\\n\")])"
   ]
  },
  {
   "cell_type": "code",
   "execution_count": null,
   "metadata": {},
   "outputs": [],
   "source": [
    "map_routes = []\n",
    "for trailhead_ind in tqdm(np.argwhere(map_top == 0)):\n",
    "    map_route = np.zeros_like(map_top, dtype=float)\n",
    "    map_route[:] = np.nan\n",
    "    map_route[*trailhead_ind] = 0\n",
    "\n",
    "    for alt in range(10):\n",
    "        alt_inds = np.argwhere(map_route == alt)\n",
    "        for alt_ind in alt_inds:\n",
    "            for offset in np.array([[0, 1], [0, -1], [1, 0], [-1, 0]]):\n",
    "                set_step(map_top, map_route, alt_ind + offset, alt + 1)\n",
    "    map_routes.append(map_route)"
   ]
  },
  {
   "cell_type": "code",
   "execution_count": null,
   "metadata": {},
   "outputs": [],
   "source": [
    "sum([len(np.argwhere(map_route == 9)) for map_route in map_routes])"
   ]
  },
  {
   "cell_type": "markdown",
   "metadata": {},
   "source": [
    "## Part 2"
   ]
  },
  {
   "cell_type": "code",
   "execution_count": null,
   "metadata": {},
   "outputs": [],
   "source": [
    "def rating(map):\n",
    "    map_dist = np.zeros_like(map, dtype=float)\n",
    "    for alt in range(10):\n",
    "        alt_inds = np.argwhere(map == alt)\n",
    "        if alt == 0:\n",
    "            map_dist[*alt_inds[0]] = 1\n",
    "        else:\n",
    "            map_dist_masked = np.ma.masked_where(map != alt - 1, map_dist).filled(0)\n",
    "            for alt_ind in alt_inds:\n",
    "                near_inds = [\n",
    "                    alt_ind + offset\n",
    "                    for offset in [[0, 1], [0, -1], [1, 0], [-1, 0]]\n",
    "                    if is_valid_index(map, alt_ind + offset)\n",
    "                ]\n",
    "                map_dist[*alt_ind] = sum(\n",
    "                    [map_dist_masked[*near_ind] for near_ind in near_inds]\n",
    "                )\n",
    "\n",
    "    return int(np.ma.masked_where(map != 9, map_dist).filled(0).sum())"
   ]
  },
  {
   "cell_type": "code",
   "execution_count": null,
   "metadata": {},
   "outputs": [],
   "source": [
    "sum([rating(map_route) for map_route in tqdm(map_routes)])"
   ]
  }
 ],
 "metadata": {
  "kernelspec": {
   "display_name": "env",
   "language": "python",
   "name": "python3"
  },
  "language_info": {
   "codemirror_mode": {
    "name": "ipython",
    "version": 3
   },
   "file_extension": ".py",
   "mimetype": "text/x-python",
   "name": "python",
   "nbconvert_exporter": "python",
   "pygments_lexer": "ipython3",
   "version": "3.12.1"
  }
 },
 "nbformat": 4,
 "nbformat_minor": 2
}
