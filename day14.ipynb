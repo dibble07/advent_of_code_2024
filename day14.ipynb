{
 "cells": [
  {
   "cell_type": "code",
   "execution_count": null,
   "metadata": {},
   "outputs": [],
   "source": [
    "import re\n",
    "\n",
    "import numpy as np\n",
    "from matplotlib import pyplot as plt"
   ]
  },
  {
   "cell_type": "code",
   "execution_count": null,
   "metadata": {},
   "outputs": [],
   "source": [
    "def input_process(text):\n",
    "    pattern = r\"p=(\\d+),(\\d+) v=(-?\\d+),(-?\\d+)\"\n",
    "    match = re.search(pattern, text)\n",
    "    out = (\n",
    "        np.array([int(match.group(1)), int(match.group(2))]),\n",
    "        np.array([int(match.group(3)), int(match.group(4))]),\n",
    "    )\n",
    "    return out"
   ]
  },
  {
   "cell_type": "code",
   "execution_count": null,
   "metadata": {},
   "outputs": [],
   "source": [
    "def is_valid_index(array, index):\n",
    "    return (index >= 0).all() and (index < array.shape).all()\n",
    "\n",
    "\n",
    "def add_to_region(grid, visited, idx, region):\n",
    "    if is_valid_index(grid, idx) and not visited[*idx] and grid[*idx]:\n",
    "        region.add((int(idx[0]), int(idx[1])))\n",
    "        visited[*idx] = True\n",
    "        for offset in [[0, 1], [0, -1], [1, 0], [-1, 0]]:\n",
    "            add_to_region(grid, visited, idx + offset, region)\n",
    "\n",
    "\n",
    "def get_largest_regions(grid):\n",
    "    visited = np.zeros_like(grid)\n",
    "    regions = []\n",
    "    for i in range(grid.shape[0]):\n",
    "        for j in range(grid.shape[1]):\n",
    "            if grid[i][j] and not visited[i][j]:\n",
    "                region = set()\n",
    "                add_to_region(grid, visited, np.array([i, j]), region)\n",
    "                regions.append(region)\n",
    "    regions.sort(key=len, reverse=True)\n",
    "    return regions[0]"
   ]
  },
  {
   "cell_type": "code",
   "execution_count": null,
   "metadata": {},
   "outputs": [],
   "source": [
    "with open(\"data/day14/input.txt\", \"r\") as file:\n",
    "    robot_init_raw = file.read()\n",
    "grid_size = np.array([101, 103])"
   ]
  },
  {
   "cell_type": "markdown",
   "metadata": {},
   "source": [
    "## Part 1"
   ]
  },
  {
   "cell_type": "code",
   "execution_count": null,
   "metadata": {},
   "outputs": [],
   "source": [
    "class Robot:\n",
    "    def __init__(self, pos_init, vel, grid_size):\n",
    "        self.pos_init = pos_init\n",
    "        self.vel = vel\n",
    "        self.grid_size = grid_size\n",
    "\n",
    "        self.pos = self.pos_init\n",
    "\n",
    "    def __call__(self):\n",
    "        self.pos += self.vel\n",
    "        overshoot = np.floor(self.pos / self.grid_size).astype(int)\n",
    "        self.pos -= overshoot * self.grid_size\n",
    "\n",
    "    def get_quadrant(self):\n",
    "        midpoint = ((self.grid_size - 1) / 2).astype(int)\n",
    "        wn = self.pos < midpoint\n",
    "        eq_mid = self.pos == midpoint\n",
    "        if any(eq_mid):\n",
    "            out = None\n",
    "        else:\n",
    "            out = (\"N\" if wn[1] else \"S\") + (\"W\" if wn[0] else \"E\")\n",
    "        return out"
   ]
  },
  {
   "cell_type": "code",
   "execution_count": null,
   "metadata": {},
   "outputs": [],
   "source": [
    "robots = [\n",
    "    Robot(pos_init=x[0], vel=x[1], grid_size=grid_size)\n",
    "    for x in [input_process(text) for text in robot_init_raw.split(\"\\n\")]\n",
    "]\n",
    "for _ in range(100):\n",
    "    for robot in robots:\n",
    "        robot()\n",
    "robot_quadrant = [robot.get_quadrant() for robot in robots]"
   ]
  },
  {
   "cell_type": "code",
   "execution_count": null,
   "metadata": {},
   "outputs": [],
   "source": [
    "int(np.prod(np.unique([x for x in robot_quadrant if x], return_counts=True)[1]))"
   ]
  },
  {
   "cell_type": "markdown",
   "metadata": {},
   "source": [
    "## Part 2"
   ]
  },
  {
   "cell_type": "code",
   "execution_count": null,
   "metadata": {},
   "outputs": [],
   "source": [
    "robots = [\n",
    "    Robot(pos_init=x[0], vel=x[1], grid_size=grid_size)\n",
    "    for x in [input_process(text) for text in robot_init_raw.split(\"\\n\")]\n",
    "]"
   ]
  },
  {
   "cell_type": "code",
   "execution_count": null,
   "metadata": {},
   "outputs": [],
   "source": [
    "tree_found = False\n",
    "iteration = 0\n",
    "while not tree_found:\n",
    "\n",
    "    grid = np.zeros((grid_size[1], grid_size[0]), dtype=bool)\n",
    "    for robot in robots:\n",
    "        grid[(robot.pos[1], robot.pos[0])] = True\n",
    "    tree_ind_poss = get_largest_regions(grid)\n",
    "\n",
    "    if iteration % 250 == 0:\n",
    "        print(f\"-- {iteration} --\")\n",
    "\n",
    "    if (\n",
    "        np.mean([(robot.pos[1], robot.pos[0]) in tree_ind_poss for robot in robots])\n",
    "        > 0.25\n",
    "    ):\n",
    "        print(f\"** {iteration} **\")\n",
    "        plt.imshow(grid)\n",
    "        plt.show()\n",
    "        tree_found = True\n",
    "    else:\n",
    "        iteration += 1\n",
    "        for robot in robots:\n",
    "            robot()"
   ]
  }
 ],
 "metadata": {
  "kernelspec": {
   "display_name": "env",
   "language": "python",
   "name": "python3"
  },
  "language_info": {
   "codemirror_mode": {
    "name": "ipython",
    "version": 3
   },
   "file_extension": ".py",
   "mimetype": "text/x-python",
   "name": "python",
   "nbconvert_exporter": "python",
   "pygments_lexer": "ipython3",
   "version": "3.12.1"
  }
 },
 "nbformat": 4,
 "nbformat_minor": 2
}
