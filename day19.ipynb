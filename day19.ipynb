{
 "cells": [
  {
   "cell_type": "code",
   "execution_count": null,
   "metadata": {},
   "outputs": [],
   "source": [
    "from functools import cache"
   ]
  },
  {
   "cell_type": "code",
   "execution_count": null,
   "metadata": {},
   "outputs": [],
   "source": [
    "with open(\"data/day19/input.txt\", \"r\") as file:\n",
    "    input_raw = file.read()\n",
    "\n",
    "options_raw, targets_raw = input_raw.split(\"\\n\\n\")\n",
    "options = options_raw.split(\", \")\n",
    "targets = targets_raw.split(\"\\n\")"
   ]
  },
  {
   "cell_type": "markdown",
   "metadata": {},
   "source": [
    "## Part 1"
   ]
  },
  {
   "cell_type": "code",
   "execution_count": null,
   "metadata": {},
   "outputs": [],
   "source": [
    "@cache\n",
    "def target_is_possible(target):\n",
    "    if len(target) == 0:\n",
    "        return True\n",
    "    else:\n",
    "        target_remaining = [\n",
    "            target[len(opt) :] for opt in options if target.startswith(opt)\n",
    "        ]\n",
    "        return any([target_is_possible(targ) for targ in target_remaining])"
   ]
  },
  {
   "cell_type": "code",
   "execution_count": null,
   "metadata": {},
   "outputs": [],
   "source": [
    "sum([target_is_possible(target) for target in targets])"
   ]
  },
  {
   "cell_type": "markdown",
   "metadata": {},
   "source": [
    "## Part 2"
   ]
  },
  {
   "cell_type": "code",
   "execution_count": null,
   "metadata": {},
   "outputs": [],
   "source": [
    "@cache\n",
    "def target_count_possible(target):\n",
    "    if len(target) == 0:\n",
    "        return 1\n",
    "    else:\n",
    "        target_remaining = [\n",
    "            target[len(opt) :] for opt in options if target.startswith(opt)\n",
    "        ]\n",
    "        return sum([target_count_possible(targ) for targ in target_remaining])"
   ]
  },
  {
   "cell_type": "code",
   "execution_count": null,
   "metadata": {},
   "outputs": [],
   "source": [
    "sum([target_count_possible(target) for target in targets])"
   ]
  }
 ],
 "metadata": {
  "kernelspec": {
   "display_name": "env",
   "language": "python",
   "name": "python3"
  },
  "language_info": {
   "codemirror_mode": {
    "name": "ipython",
    "version": 3
   },
   "file_extension": ".py",
   "mimetype": "text/x-python",
   "name": "python",
   "nbconvert_exporter": "python",
   "pygments_lexer": "ipython3",
   "version": "3.12.1"
  }
 },
 "nbformat": 4,
 "nbformat_minor": 2
}
