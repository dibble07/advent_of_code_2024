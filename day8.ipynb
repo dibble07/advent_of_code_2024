{
 "cells": [
  {
   "cell_type": "code",
   "execution_count": null,
   "metadata": {},
   "outputs": [],
   "source": [
    "import numpy as np\n",
    "from itertools import combinations"
   ]
  },
  {
   "cell_type": "code",
   "execution_count": null,
   "metadata": {},
   "outputs": [],
   "source": [
    "def set_antinode(array, index):\n",
    "    if (index >= 0).all() and (index < array.shape).all():\n",
    "        array[*index] = \"#\""
   ]
  },
  {
   "cell_type": "markdown",
   "metadata": {},
   "source": [
    "## Part 1"
   ]
  },
  {
   "cell_type": "code",
   "execution_count": null,
   "metadata": {},
   "outputs": [],
   "source": [
    "with open(\"data/day8/input.txt\", \"r\") as file:\n",
    "    map_raw = file.read()"
   ]
  },
  {
   "cell_type": "code",
   "execution_count": null,
   "metadata": {},
   "outputs": [],
   "source": [
    "map = np.array([list(x) for x in map_raw.split(\"\\n\")])"
   ]
  },
  {
   "cell_type": "code",
   "execution_count": null,
   "metadata": {},
   "outputs": [],
   "source": [
    "map_antinode = np.empty(map.shape, dtype=str)\n",
    "for freq in np.unique(map):\n",
    "\n",
    "    if freq == \".\":\n",
    "        continue\n",
    "\n",
    "    antenna_loc = np.argwhere(map == freq)\n",
    "    for a, b in combinations(antenna_loc, r=2):\n",
    "        diff = a - b\n",
    "        set_antinode(map_antinode, a + diff)\n",
    "        set_antinode(map_antinode, b - diff)\n",
    "\n",
    "len(np.argwhere(map_antinode == \"#\"))"
   ]
  },
  {
   "cell_type": "markdown",
   "metadata": {},
   "source": [
    "## Part 2"
   ]
  },
  {
   "cell_type": "code",
   "execution_count": null,
   "metadata": {},
   "outputs": [],
   "source": [
    "map_antinode = np.empty(map.shape, dtype=str)\n",
    "for freq in np.unique(map):\n",
    "\n",
    "    if freq == \".\":\n",
    "        continue\n",
    "\n",
    "    antenna_loc = np.argwhere(map == freq)\n",
    "    for a, b in combinations(antenna_loc, r=2):\n",
    "        diff = a - b\n",
    "        for harmonic in range(int(np.floor(min(map.shape / np.abs(diff)))) + 1):\n",
    "            set_antinode(map_antinode, a + diff * harmonic)\n",
    "            set_antinode(map_antinode, b - diff * harmonic)\n",
    "\n",
    "len(np.argwhere(map_antinode == \"#\"))"
   ]
  }
 ],
 "metadata": {
  "kernelspec": {
   "display_name": "env",
   "language": "python",
   "name": "python3"
  },
  "language_info": {
   "codemirror_mode": {
    "name": "ipython",
    "version": 3
   },
   "file_extension": ".py",
   "mimetype": "text/x-python",
   "name": "python",
   "nbconvert_exporter": "python",
   "pygments_lexer": "ipython3",
   "version": "3.12.1"
  }
 },
 "nbformat": 4,
 "nbformat_minor": 2
}
