{
 "cells": [
  {
   "cell_type": "code",
   "execution_count": null,
   "metadata": {},
   "outputs": [],
   "source": [
    "import numpy as np"
   ]
  },
  {
   "cell_type": "code",
   "execution_count": null,
   "metadata": {},
   "outputs": [],
   "source": [
    "with open(\"data/day25/input.txt\", \"r\") as file:\n",
    "    input_raw = file.read()"
   ]
  },
  {
   "cell_type": "code",
   "execution_count": null,
   "metadata": {},
   "outputs": [],
   "source": [
    "key_locks = [\n",
    "    np.array([list(y) for y in x.split(\"\\n\")]) for x in input_raw.split(\"\\n\\n\")\n",
    "]"
   ]
  },
  {
   "cell_type": "code",
   "execution_count": null,
   "metadata": {},
   "outputs": [],
   "source": [
    "locks = []\n",
    "keys = []\n",
    "for key_lock in key_locks:\n",
    "    if all(key_lock[0, :] == \"#\") and all(key_lock[-1, :] == \".\"):\n",
    "        locks.append((key_lock[1:, :] == \"#\").sum(axis=0))\n",
    "    elif all(key_lock[-1, :] == \"#\") and all(key_lock[0, :] == \".\"):\n",
    "        keys.append((key_lock[:-1, :] == \"#\").sum(axis=0))\n",
    "    else:\n",
    "        raise ValueError()"
   ]
  },
  {
   "cell_type": "markdown",
   "metadata": {},
   "source": [
    "## Part 1"
   ]
  },
  {
   "cell_type": "code",
   "execution_count": null,
   "metadata": {},
   "outputs": [],
   "source": [
    "count_fit = 0\n",
    "for lock in locks:\n",
    "    for key in keys:\n",
    "        if not any((lock + key) > 5):\n",
    "            count_fit += 1\n",
    "count_fit"
   ]
  },
  {
   "cell_type": "markdown",
   "metadata": {},
   "source": [
    "## Part 2"
   ]
  }
 ],
 "metadata": {
  "kernelspec": {
   "display_name": "env",
   "language": "python",
   "name": "python3"
  },
  "language_info": {
   "codemirror_mode": {
    "name": "ipython",
    "version": 3
   },
   "file_extension": ".py",
   "mimetype": "text/x-python",
   "name": "python",
   "nbconvert_exporter": "python",
   "pygments_lexer": "ipython3",
   "version": "3.12.1"
  }
 },
 "nbformat": 4,
 "nbformat_minor": 2
}
