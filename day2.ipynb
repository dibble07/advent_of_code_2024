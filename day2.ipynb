{
 "cells": [
  {
   "cell_type": "code",
   "execution_count": null,
   "metadata": {},
   "outputs": [],
   "source": [
    "import numpy as np"
   ]
  },
  {
   "cell_type": "markdown",
   "metadata": {},
   "source": [
    "## Part 1"
   ]
  },
  {
   "cell_type": "code",
   "execution_count": null,
   "metadata": {},
   "outputs": [],
   "source": [
    "with open(\"data/day2/input.txt\", \"r\") as file:\n",
    "    reports = [\n",
    "        [int(level) for level in report.strip().split()] for report in file.readlines()\n",
    "    ]"
   ]
  },
  {
   "cell_type": "code",
   "execution_count": null,
   "metadata": {},
   "outputs": [],
   "source": [
    "def safe_report_simple(report):\n",
    "    report = np.array(report)\n",
    "    diff = np.diff(report)\n",
    "    diff_abs = np.abs(diff)\n",
    "    safe = (\n",
    "        diff_abs.min() >= 1\n",
    "        and diff_abs.max() <= 3\n",
    "        and (\n",
    "            all([x == 1 for x in np.sign(diff)])\n",
    "            or all([x == -1 for x in np.sign(diff)])\n",
    "        )\n",
    "    )\n",
    "    return bool(safe)"
   ]
  },
  {
   "cell_type": "code",
   "execution_count": null,
   "metadata": {},
   "outputs": [],
   "source": [
    "sum([safe_report_simple(report) for report in reports])"
   ]
  },
  {
   "cell_type": "markdown",
   "metadata": {},
   "source": [
    "## Part 2"
   ]
  },
  {
   "cell_type": "code",
   "execution_count": null,
   "metadata": {},
   "outputs": [],
   "source": [
    "def safe_report_complex(report):\n",
    "    safe = safe_report_simple(report)\n",
    "    if not safe:\n",
    "        for i in range(len(report)):\n",
    "            report_copy = report.copy()\n",
    "            del report_copy[i]\n",
    "            safe = safe_report_simple(report_copy)\n",
    "            if safe:\n",
    "                break\n",
    "\n",
    "    return safe"
   ]
  },
  {
   "cell_type": "code",
   "execution_count": null,
   "metadata": {},
   "outputs": [],
   "source": [
    "sum([safe_report_complex(report) for report in reports])"
   ]
  }
 ],
 "metadata": {
  "kernelspec": {
   "display_name": "env",
   "language": "python",
   "name": "python3"
  },
  "language_info": {
   "codemirror_mode": {
    "name": "ipython",
    "version": 3
   },
   "file_extension": ".py",
   "mimetype": "text/x-python",
   "name": "python",
   "nbconvert_exporter": "python",
   "pygments_lexer": "ipython3",
   "version": "3.12.1"
  }
 },
 "nbformat": 4,
 "nbformat_minor": 2
}
