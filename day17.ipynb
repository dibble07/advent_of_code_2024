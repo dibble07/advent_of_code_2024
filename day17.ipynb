{
 "cells": [
  {
   "cell_type": "code",
   "execution_count": 1,
   "metadata": {},
   "outputs": [],
   "source": [
    "import re"
   ]
  },
  {
   "cell_type": "code",
   "execution_count": 2,
   "metadata": {},
   "outputs": [],
   "source": [
    "def register_input_process(\n",
    "    text,\n",
    "):\n",
    "    pat = r\"Register ([A-C]): (\\d+)\"\n",
    "    matches = re.search(pat, text)\n",
    "    return matches.group(1), int(matches.group(2))"
   ]
  },
  {
   "cell_type": "code",
   "execution_count": null,
   "metadata": {},
   "outputs": [],
   "source": [
    "with open(\"data/day17/input.txt\", \"r\") as file:\n",
    "    input_raw = file.read()\n",
    "\n",
    "input_raw = \"\"\"Register A: 729\n",
    "Register B: 0\n",
    "Register C: 0\n",
    "\n",
    "Program: 0,1,5,4,3,0\"\"\"\n",
    "\n",
    "register_raw, opcodes_raw = input_raw.split(\"\\n\\n\")"
   ]
  },
  {
   "cell_type": "code",
   "execution_count": 4,
   "metadata": {},
   "outputs": [],
   "source": [
    "register_init = dict(\n",
    "    [register_input_process(text) for text in register_raw.split(\"\\n\")]\n",
    ")\n",
    "register = register_init.copy()"
   ]
  },
  {
   "cell_type": "code",
   "execution_count": 5,
   "metadata": {},
   "outputs": [],
   "source": [
    "instructions = [int(x) for x in opcodes_raw.split(\" \")[1].split(\",\")]"
   ]
  },
  {
   "cell_type": "code",
   "execution_count": 6,
   "metadata": {},
   "outputs": [],
   "source": [
    "combo_operand_func = {\n",
    "    0: lambda: 0,\n",
    "    1: lambda: 1,\n",
    "    2: lambda: 2,\n",
    "    3: lambda: 3,\n",
    "    4: lambda: register[\"A\"],\n",
    "    5: lambda: register[\"B\"],\n",
    "    6: lambda: register[\"C\"],\n",
    "}"
   ]
  },
  {
   "cell_type": "code",
   "execution_count": 7,
   "metadata": {},
   "outputs": [],
   "source": [
    "def op0(op_lit):\n",
    "    register[\"A\"] = register[\"A\"] // 2 ** combo_operand_func[op_lit]()\n",
    "\n",
    "\n",
    "def op1(op_lit):\n",
    "    register[\"B\"] = register[\"B\"] ^ op_lit\n",
    "\n",
    "\n",
    "def op2(op_lit):\n",
    "    register[\"B\"] = combo_operand_func[op_lit]() % 8\n",
    "\n",
    "\n",
    "def op3(op_lit):\n",
    "    if register[\"A\"] != 0:\n",
    "        return \"jump\"\n",
    "\n",
    "\n",
    "def op4(op_lit):\n",
    "    register[\"B\"] = register[\"B\"] ^ register[\"C\"]\n",
    "\n",
    "\n",
    "def op5(op_lit):\n",
    "    return combo_operand_func[op_lit]() % 8\n",
    "\n",
    "\n",
    "def op6(op_lit):\n",
    "    register[\"B\"] = register[\"A\"] // 2 ** combo_operand_func[op_lit]()\n",
    "\n",
    "\n",
    "def op7(op_lit):\n",
    "    register[\"C\"] = register[\"A\"] // 2 ** combo_operand_func[op_lit]()"
   ]
  },
  {
   "cell_type": "code",
   "execution_count": 8,
   "metadata": {},
   "outputs": [],
   "source": [
    "op_func = {0: op0, 1: op1, 2: op2, 3: op3, 4: op4, 5: op5, 6: op6, 7: op7}"
   ]
  },
  {
   "cell_type": "code",
   "execution_count": 9,
   "metadata": {},
   "outputs": [],
   "source": [
    "def run(prog):\n",
    "    ins_point = 0\n",
    "    output = []\n",
    "    while ins_point < len(prog):\n",
    "        opcode, operand = prog[ins_point], prog[ins_point + 1]\n",
    "        val = op_func[opcode](operand)\n",
    "        if val == \"jump\":\n",
    "            ins_point = operand\n",
    "        else:\n",
    "            if val is not None:\n",
    "                output.append(val)\n",
    "            ins_point += 2\n",
    "\n",
    "    return output"
   ]
  },
  {
   "cell_type": "markdown",
   "metadata": {},
   "source": [
    "## Tests"
   ]
  },
  {
   "cell_type": "code",
   "execution_count": 10,
   "metadata": {},
   "outputs": [],
   "source": [
    "register[\"C\"] = 9\n",
    "opcode, operand = 2, 6\n",
    "op_func[opcode](operand)\n",
    "assert register[\"B\"] == 1\n",
    "\n",
    "register[\"A\"] = 10\n",
    "instructions_test = [5, 0, 5, 1, 5, 4]\n",
    "output = run(instructions_test)\n",
    "assert all([i == j for i, j in zip(output, (0, 1, 2))])\n",
    "\n",
    "register[\"A\"] = 2024\n",
    "instructions_test = [0, 1, 5, 4, 3, 0]\n",
    "output = run(instructions_test)\n",
    "assert all([i == j for i, j in zip(output, (4, 2, 5, 6, 7, 7, 7, 7, 3, 1, 0))])\n",
    "assert register[\"A\"] == 0\n",
    "\n",
    "register[\"B\"] = 29\n",
    "opcode, operand = 1, 7\n",
    "op_func[opcode](operand)\n",
    "assert register[\"B\"] == 26\n",
    "\n",
    "register[\"B\"] = 2024\n",
    "register[\"C\"] = 43690\n",
    "opcode, operand = 4, 0\n",
    "op_func[opcode](operand)\n",
    "assert register[\"B\"] == 44354"
   ]
  },
  {
   "cell_type": "markdown",
   "metadata": {},
   "source": [
    "## Part 1"
   ]
  },
  {
   "cell_type": "code",
   "execution_count": 11,
   "metadata": {},
   "outputs": [],
   "source": [
    "register = register_init.copy()"
   ]
  },
  {
   "cell_type": "code",
   "execution_count": 12,
   "metadata": {},
   "outputs": [
    {
     "name": "stdout",
     "output_type": "stream",
     "text": [
      "4,0,4,7,1,2,7,1,6\n"
     ]
    }
   ],
   "source": [
    "print(\",\".join([str(x) for x in run(instructions)]))"
   ]
  },
  {
   "cell_type": "markdown",
   "metadata": {},
   "source": [
    "## Part 2"
   ]
  },
  {
   "cell_type": "markdown",
   "metadata": {},
   "source": [
    "Seems to require reverse engineering the problem being in some repetitive loop. I'm going to call it a day here."
   ]
  }
 ],
 "metadata": {
  "kernelspec": {
   "display_name": "env",
   "language": "python",
   "name": "python3"
  },
  "language_info": {
   "codemirror_mode": {
    "name": "ipython",
    "version": 3
   },
   "file_extension": ".py",
   "mimetype": "text/x-python",
   "name": "python",
   "nbconvert_exporter": "python",
   "pygments_lexer": "ipython3",
   "version": "3.12.1"
  }
 },
 "nbformat": 4,
 "nbformat_minor": 2
}
