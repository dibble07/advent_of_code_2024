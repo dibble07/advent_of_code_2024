{
 "cells": [
  {
   "cell_type": "markdown",
   "metadata": {},
   "source": [
    "## Part 1"
   ]
  },
  {
   "cell_type": "code",
   "execution_count": null,
   "metadata": {},
   "outputs": [],
   "source": [
    "with open(\"data/day5/input.txt\", \"r\") as file:\n",
    "    text = file.read()"
   ]
  },
  {
   "cell_type": "code",
   "execution_count": null,
   "metadata": {},
   "outputs": [],
   "source": [
    "rules_str, pages_sets_str = text.split(\"\\n\\n\")\n",
    "rule_pairs = [\n",
    "    (int(rule_pair[0]), int(rule_pair[1]))\n",
    "    for rule_pair in [rule_str.split(\"|\") for rule_str in rules_str.split(\"\\n\")]\n",
    "]\n",
    "rules = {k: [] for k in set([pair[0] for pair in rule_pairs])}\n",
    "for k, v in rule_pairs:\n",
    "    rules[k].append(v)\n",
    "pages_sets = [\n",
    "    [int(page) for page in pages_str.split(\",\")]\n",
    "    for pages_str in pages_sets_str.split(\"\\n\")\n",
    "]"
   ]
  },
  {
   "cell_type": "code",
   "execution_count": null,
   "metadata": {},
   "outputs": [],
   "source": [
    "pages_sets_correct = []\n",
    "pages_sets_incorrect = []\n",
    "for pages in pages_sets:\n",
    "    assert len(pages) == len(list(set(pages)))\n",
    "    correct = True\n",
    "    for i, page in enumerate(pages):\n",
    "        if i > 0 and page in rules:\n",
    "            for aft_page in rules[page]:\n",
    "                if aft_page in pages:\n",
    "                    if aft_page in pages[:i]:\n",
    "                        correct = False\n",
    "    if correct:\n",
    "        pages_sets_correct.append(pages)\n",
    "    else:\n",
    "        pages_sets_incorrect.append(pages)"
   ]
  },
  {
   "cell_type": "code",
   "execution_count": null,
   "metadata": {},
   "outputs": [],
   "source": [
    "middle_correct_pages = [\n",
    "    pages_sets[int(len(pages_sets) / 2)] for pages_sets in pages_sets_correct\n",
    "]"
   ]
  },
  {
   "cell_type": "code",
   "execution_count": null,
   "metadata": {},
   "outputs": [],
   "source": [
    "sum(middle_correct_pages)"
   ]
  },
  {
   "cell_type": "markdown",
   "metadata": {},
   "source": [
    "## Part 2"
   ]
  },
  {
   "cell_type": "code",
   "execution_count": null,
   "metadata": {},
   "outputs": [],
   "source": [
    "rules_before = {k: [] for k in set([pair[1] for pair in rule_pairs])}\n",
    "for v, k in rule_pairs:\n",
    "    rules_before[k].append(v)"
   ]
  },
  {
   "cell_type": "code",
   "execution_count": null,
   "metadata": {},
   "outputs": [],
   "source": [
    "pages_sets_corrected = []\n",
    "for pages_set in pages_sets_incorrect:\n",
    "    pages_set_corrected = [pages_set[0]]\n",
    "    for page in pages_set[1:]:\n",
    "        for ind in range(len(pages_set_corrected) + 1):\n",
    "            before = pages_set_corrected[:ind]\n",
    "            after = pages_set_corrected[ind:]\n",
    "            if page in rules:\n",
    "                if any([p in rules[page] for p in before]):\n",
    "                    continue\n",
    "            if page in rules_before:\n",
    "                if any([p in rules_before[page] for p in after]):\n",
    "                    continue\n",
    "            pages_set_corrected = before + [page] + after\n",
    "            break\n",
    "    pages_sets_corrected.append(pages_set_corrected)"
   ]
  },
  {
   "cell_type": "code",
   "execution_count": null,
   "metadata": {},
   "outputs": [],
   "source": [
    "middle_corrected_pages = [\n",
    "    pages_sets[int(len(pages_sets) / 2)] for pages_sets in pages_sets_corrected\n",
    "]"
   ]
  },
  {
   "cell_type": "code",
   "execution_count": null,
   "metadata": {},
   "outputs": [],
   "source": [
    "sum(middle_corrected_pages)"
   ]
  }
 ],
 "metadata": {
  "kernelspec": {
   "display_name": "env",
   "language": "python",
   "name": "python3"
  },
  "language_info": {
   "codemirror_mode": {
    "name": "ipython",
    "version": 3
   },
   "file_extension": ".py",
   "mimetype": "text/x-python",
   "name": "python",
   "nbconvert_exporter": "python",
   "pygments_lexer": "ipython3",
   "version": "3.12.1"
  }
 },
 "nbformat": 4,
 "nbformat_minor": 2
}
