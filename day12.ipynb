{
 "cells": [
  {
   "cell_type": "code",
   "execution_count": null,
   "metadata": {},
   "outputs": [],
   "source": [
    "import numpy as np\n",
    "from scipy.signal import correlate2d\n",
    "from tqdm.auto import tqdm"
   ]
  },
  {
   "cell_type": "code",
   "execution_count": null,
   "metadata": {},
   "outputs": [],
   "source": [
    "def is_valid_index(array, index):\n",
    "    return (index >= 0).all() and (index < array.shape).all()"
   ]
  },
  {
   "cell_type": "code",
   "execution_count": null,
   "metadata": {},
   "outputs": [],
   "source": [
    "def array_is_in(arr, ref):\n",
    "    return any([np.array_equal(arr, x) for x in ref])"
   ]
  },
  {
   "cell_type": "code",
   "execution_count": null,
   "metadata": {},
   "outputs": [],
   "source": [
    "def add_to_region(grid, visited, idx, region):\n",
    "    if is_valid_index(grid, idx) and not visited[*idx] and grid[*idx]:\n",
    "        region.add((int(idx[0]), int(idx[1])))\n",
    "        visited[*idx] = True\n",
    "        for offset in [[0, 1], [0, -1], [1, 0], [-1, 0]]:\n",
    "            add_to_region(grid, visited, idx + offset, region)\n",
    "\n",
    "\n",
    "def get_regions(grid):\n",
    "    visited = np.zeros_like(grid)\n",
    "    regions = []\n",
    "    for i in range(grid.shape[0]):\n",
    "        for j in range(grid.shape[1]):\n",
    "            if grid[i][j] and not visited[i][j]:\n",
    "                region = set()\n",
    "                add_to_region(grid, visited, np.array([i, j]), region)\n",
    "                regions.append(region)\n",
    "    return regions"
   ]
  },
  {
   "cell_type": "markdown",
   "metadata": {},
   "source": [
    "## Part 1"
   ]
  },
  {
   "cell_type": "code",
   "execution_count": null,
   "metadata": {},
   "outputs": [],
   "source": [
    "with open(\"data/day12/input.txt\", \"r\") as file:\n",
    "    map_raw = file.read()"
   ]
  },
  {
   "cell_type": "code",
   "execution_count": null,
   "metadata": {},
   "outputs": [],
   "source": [
    "map = np.array([list(x) for x in map_raw.split(\"\\n\")])"
   ]
  },
  {
   "cell_type": "code",
   "execution_count": null,
   "metadata": {},
   "outputs": [],
   "source": [
    "plant_cost = {}\n",
    "for plant in tqdm(np.unique(map)):\n",
    "    plant_cost[str(plant)] = 0\n",
    "    for idx_region in get_regions(map == plant):\n",
    "        perimeter = 0\n",
    "        for idx in idx_region:\n",
    "            idx = np.array(idx)\n",
    "            for offset in [[0, 1], [0, -1], [1, 0], [-1, 0]]:\n",
    "                neighbour_idx = idx + offset\n",
    "                if is_valid_index(map, neighbour_idx):\n",
    "                    if map[*neighbour_idx] != plant:\n",
    "                        perimeter += 1\n",
    "                else:\n",
    "                    perimeter += 1\n",
    "        plant_cost[str(plant)] += perimeter * len(idx_region)\n",
    "\n",
    "print(plant_cost)\n",
    "print(sum(plant_cost.values()))"
   ]
  },
  {
   "cell_type": "markdown",
   "metadata": {},
   "source": [
    "## Part 2"
   ]
  },
  {
   "cell_type": "code",
   "execution_count": null,
   "metadata": {},
   "outputs": [],
   "source": [
    "ext_kernel = np.array(\n",
    "    [\n",
    "        [0, -1, 0],\n",
    "        [-1, 1, 0],\n",
    "        [0, 0, 0],\n",
    "    ]\n",
    ")\n",
    "int_kernel = np.array(\n",
    "    [\n",
    "        [-1, -1, 0],\n",
    "        [-1, 1, 0],\n",
    "        [0, 0, 0],\n",
    "    ]\n",
    ")\n",
    "plant_cost = {}\n",
    "for plant in tqdm(np.unique(map)):\n",
    "    plant_cost[str(plant)] = 0\n",
    "    for idx_region in get_regions(map == plant):\n",
    "        map_region = np.zeros(map.shape, dtype=int)\n",
    "        for idx in idx_region:\n",
    "            map_region[*idx] = 1\n",
    "        corners_ext = np.array(\n",
    "            [\n",
    "                correlate2d(map_region, np.rot90(ext_kernel, k=k), mode=\"same\") > 0\n",
    "                for k in range(4)\n",
    "            ]\n",
    "        )\n",
    "        corners_int = np.array(\n",
    "            [\n",
    "                correlate2d(\n",
    "                    1 - map_region, np.rot90(int_kernel, k=k), mode=\"same\", fillvalue=1\n",
    "                )\n",
    "                > 0\n",
    "                for k in range(4)\n",
    "            ]\n",
    "        )\n",
    "        edges = int(corners_ext.sum() + corners_int.sum())\n",
    "        plant_cost[str(plant)] += len(idx_region) * edges\n",
    "\n",
    "print(plant_cost)\n",
    "print(sum(plant_cost.values()))"
   ]
  }
 ],
 "metadata": {
  "kernelspec": {
   "display_name": "env",
   "language": "python",
   "name": "python3"
  },
  "language_info": {
   "codemirror_mode": {
    "name": "ipython",
    "version": 3
   },
   "file_extension": ".py",
   "mimetype": "text/x-python",
   "name": "python",
   "nbconvert_exporter": "python",
   "pygments_lexer": "ipython3",
   "version": "3.12.1"
  }
 },
 "nbformat": 4,
 "nbformat_minor": 2
}
