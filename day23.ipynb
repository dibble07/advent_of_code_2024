{
 "cells": [
  {
   "cell_type": "code",
   "execution_count": null,
   "metadata": {},
   "outputs": [],
   "source": [
    "from itertools import combinations\n",
    "\n",
    "from tqdm.auto import tqdm"
   ]
  },
  {
   "cell_type": "code",
   "execution_count": null,
   "metadata": {},
   "outputs": [],
   "source": [
    "def is_possible_network(combo, map):\n",
    "    valid = True\n",
    "    for index, pc_from in enumerate(combo):\n",
    "        pc_to = combo[:index] + combo[index + 1 :]\n",
    "        if not all([to in map[pc_from] for to in pc_to]):\n",
    "            valid = False\n",
    "    return valid"
   ]
  },
  {
   "cell_type": "code",
   "execution_count": null,
   "metadata": {},
   "outputs": [],
   "source": [
    "def grow_combo(combo, connections):\n",
    "    combo = set(combo)\n",
    "    node_found = True\n",
    "    while node_found:\n",
    "        node_found = False\n",
    "        for node in combo:\n",
    "            for node_adj in connections[node]:\n",
    "                if connections[node_adj].issuperset(combo):\n",
    "                    node_found = node_adj\n",
    "                    break\n",
    "            if node_found:\n",
    "                break\n",
    "        if node_found:\n",
    "            combo.add(node_found)\n",
    "    return combo"
   ]
  },
  {
   "cell_type": "code",
   "execution_count": null,
   "metadata": {},
   "outputs": [],
   "source": [
    "with open(\"data/day23/input.txt\", \"r\") as file:\n",
    "    connection_pairs_raw = file.read()\n",
    "\n",
    "# connection_pairs_raw = \"\"\"kh-tc\n",
    "# qp-kh\n",
    "# de-cg\n",
    "# ka-co\n",
    "# yn-aq\n",
    "# qp-ub\n",
    "# cg-tb\n",
    "# vc-aq\n",
    "# tb-ka\n",
    "# wh-tc\n",
    "# yn-cg\n",
    "# kh-ub\n",
    "# ta-co\n",
    "# de-co\n",
    "# tc-td\n",
    "# tb-wq\n",
    "# wh-td\n",
    "# ta-ka\n",
    "# td-qp\n",
    "# aq-cg\n",
    "# wq-ub\n",
    "# ub-vc\n",
    "# de-ta\n",
    "# wq-aq\n",
    "# wq-vc\n",
    "# wh-yn\n",
    "# ka-de\n",
    "# kh-ta\n",
    "# co-tc\n",
    "# wh-qp\n",
    "# tb-vc\n",
    "# td-yn\"\"\""
   ]
  },
  {
   "cell_type": "code",
   "execution_count": null,
   "metadata": {},
   "outputs": [],
   "source": [
    "connection_pairs = [tuple(x.split(\"-\")) for x in connection_pairs_raw.split(\"\\n\")]"
   ]
  },
  {
   "cell_type": "code",
   "execution_count": null,
   "metadata": {},
   "outputs": [],
   "source": [
    "pc_names = set([x for pair in connection_pairs for x in pair])"
   ]
  },
  {
   "cell_type": "code",
   "execution_count": null,
   "metadata": {},
   "outputs": [],
   "source": [
    "connection_map = {\n",
    "    pc_name: set(\n",
    "        [[y for y in x if y != pc_name][0] for x in connection_pairs if pc_name in x]\n",
    "    )\n",
    "    for pc_name in pc_names\n",
    "}"
   ]
  },
  {
   "cell_type": "code",
   "execution_count": null,
   "metadata": {},
   "outputs": [],
   "source": [
    "assert all([len(x) >= 2 for x in connection_map.values()])"
   ]
  },
  {
   "cell_type": "markdown",
   "metadata": {},
   "source": [
    "## Part 1"
   ]
  },
  {
   "cell_type": "code",
   "execution_count": null,
   "metadata": {},
   "outputs": [],
   "source": [
    "pc_combos_poss = combinations(pc_names, 3)"
   ]
  },
  {
   "cell_type": "code",
   "execution_count": null,
   "metadata": {},
   "outputs": [],
   "source": [
    "pc_combos = [\n",
    "    pc_combo_poss\n",
    "    for pc_combo_poss in pc_combos_poss\n",
    "    if is_possible_network(pc_combo_poss, connection_map)\n",
    "]"
   ]
  },
  {
   "cell_type": "code",
   "execution_count": null,
   "metadata": {},
   "outputs": [],
   "source": [
    "len([x for x in pc_combos if any([y.startswith(\"t\") for y in x])])"
   ]
  },
  {
   "cell_type": "markdown",
   "metadata": {},
   "source": [
    "## Part 2"
   ]
  },
  {
   "cell_type": "code",
   "execution_count": null,
   "metadata": {},
   "outputs": [],
   "source": [
    "max_combo = []\n",
    "for pc_combo in pc_combos:\n",
    "    combo = grow_combo(pc_combo, connection_map)\n",
    "    if len(combo) > len(max_combo):\n",
    "        max_combo = combo\n",
    "\n",
    "\",\".join(sorted(max_combo))"
   ]
  }
 ],
 "metadata": {
  "kernelspec": {
   "display_name": "env",
   "language": "python",
   "name": "python3"
  },
  "language_info": {
   "codemirror_mode": {
    "name": "ipython",
    "version": 3
   },
   "file_extension": ".py",
   "mimetype": "text/x-python",
   "name": "python",
   "nbconvert_exporter": "python",
   "pygments_lexer": "ipython3",
   "version": "3.12.1"
  }
 },
 "nbformat": 4,
 "nbformat_minor": 2
}
