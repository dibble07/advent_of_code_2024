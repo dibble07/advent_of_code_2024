{
 "cells": [
  {
   "cell_type": "code",
   "execution_count": null,
   "metadata": {},
   "outputs": [],
   "source": [
    "from functools import cache\n",
    "from itertools import permutations\n",
    "\n",
    "import numpy as np\n",
    "from tqdm.auto import tqdm"
   ]
  },
  {
   "cell_type": "code",
   "execution_count": null,
   "metadata": {},
   "outputs": [],
   "source": [
    "def is_valid_route(idx, steps, keypad, offset_map):\n",
    "    valid = True\n",
    "    for step in steps:\n",
    "        idx = idx + offset_map[step]\n",
    "        if not keypad[*idx]:\n",
    "            valid = False\n",
    "    return valid"
   ]
  },
  {
   "cell_type": "code",
   "execution_count": null,
   "metadata": {},
   "outputs": [],
   "source": [
    "def get_combinations(steps_options):\n",
    "    currs = [\"\"]\n",
    "    nexts = []\n",
    "    for step_options in steps_options:\n",
    "        for curr in currs:\n",
    "            for step_option in step_options:\n",
    "                nexts.append(curr + step_option)\n",
    "        currs = nexts\n",
    "        nexts = []\n",
    "\n",
    "    return currs"
   ]
  },
  {
   "cell_type": "code",
   "execution_count": null,
   "metadata": {},
   "outputs": [],
   "source": [
    "def flatten_list(outer):\n",
    "    return [ele for inner in outer for ele in inner]"
   ]
  },
  {
   "cell_type": "code",
   "execution_count": null,
   "metadata": {},
   "outputs": [],
   "source": [
    "def only_shortest(full):\n",
    "    min_len = min(len(x) for x in full)\n",
    "    return [x for x in full if len(x) == min_len]"
   ]
  },
  {
   "cell_type": "code",
   "execution_count": null,
   "metadata": {},
   "outputs": [],
   "source": [
    "def get_steps_options(code, keypad, offset_map):\n",
    "\n",
    "    idx_curr = np.argwhere(keypad == \"A\")[0]\n",
    "    steps_options = []\n",
    "\n",
    "    for code_digit in code:\n",
    "\n",
    "        idx_target = np.argwhere(keypad == code_digit)[0]\n",
    "        dy, dx = idx_target - idx_curr\n",
    "\n",
    "        steps_raw = \"\"\n",
    "        if dy < 0:\n",
    "            steps_raw += \"^\" * abs(dy)\n",
    "        elif dy > 0:\n",
    "            steps_raw += \"v\" * abs(dy)\n",
    "        if dx < 0:\n",
    "            steps_raw += \"<\" * abs(dx)\n",
    "        elif dx > 0:\n",
    "            steps_raw += \">\" * abs(dx)\n",
    "\n",
    "        steps_options.append(\n",
    "            [\n",
    "                x + \"A\"\n",
    "                for x in set([\"\".join(x) for x in permutations(steps_raw)])\n",
    "                if is_valid_route(idx_curr.copy(), x, keypad, offset_map)\n",
    "            ]\n",
    "        )\n",
    "\n",
    "        idx_curr = idx_target\n",
    "\n",
    "    steps_options = get_combinations(steps_options)\n",
    "\n",
    "    return steps_options"
   ]
  },
  {
   "cell_type": "code",
   "execution_count": null,
   "metadata": {},
   "outputs": [],
   "source": [
    "with open(\"data/day21/input.txt\", \"r\") as file:\n",
    "    numeric_codes_raw = file.read()"
   ]
  },
  {
   "cell_type": "code",
   "execution_count": null,
   "metadata": {},
   "outputs": [],
   "source": [
    "numeric_codes = numeric_codes_raw.split(\"\\n\")"
   ]
  },
  {
   "cell_type": "code",
   "execution_count": null,
   "metadata": {},
   "outputs": [],
   "source": [
    "numeric_keypad = np.array(\n",
    "    [[\"7\", \"8\", \"9\"], [\"4\", \"5\", \"6\"], [\"1\", \"2\", \"3\"], [\"\", \"0\", \"A\"]]\n",
    ")\n",
    "numeric_keypad"
   ]
  },
  {
   "cell_type": "code",
   "execution_count": null,
   "metadata": {},
   "outputs": [],
   "source": [
    "directional_keypad = np.array([[\"\", \"^\", \"A\"], [\"<\", \"v\", \">\"]])\n",
    "directional_keypad"
   ]
  },
  {
   "cell_type": "code",
   "execution_count": null,
   "metadata": {},
   "outputs": [],
   "source": [
    "offset_map = {\n",
    "    \"^\": (-1, 0),\n",
    "    \"v\": (1, 0),\n",
    "    \"<\": (0, -1),\n",
    "    \">\": (0, 1),\n",
    "}"
   ]
  },
  {
   "cell_type": "code",
   "execution_count": null,
   "metadata": {},
   "outputs": [],
   "source": [
    "@cache\n",
    "def get_steps_options_rec(steps_options, target_depth, depth=0):\n",
    "    if not isinstance(steps_options, list):\n",
    "        steps_options = [steps_options]\n",
    "\n",
    "    keypad = numeric_keypad if depth == 0 else directional_keypad\n",
    "    int_steps_options = only_shortest(\n",
    "        flatten_list(\n",
    "            [get_steps_options(step, keypad, offset_map) for step in steps_options]\n",
    "        )\n",
    "    )\n",
    "\n",
    "    if depth == target_depth:\n",
    "        return int_steps_options\n",
    "    else:\n",
    "        return only_shortest(\n",
    "            flatten_list(\n",
    "                [\n",
    "                    get_steps_options_rec(x, target_depth, depth + 1)\n",
    "                    for x in int_steps_options\n",
    "                ]\n",
    "            )\n",
    "        )"
   ]
  },
  {
   "cell_type": "code",
   "execution_count": null,
   "metadata": {},
   "outputs": [],
   "source": [
    "test_res = {\n",
    "    \"029A\": \"<vA<AA>>^AvAA<^A>A<v<A>>^AvA^A<vA>^A<v<A>^A>AAvA^A<v<A>A>^AAAvA<^A>A\",\n",
    "    \"980A\": \"<v<A>>^AAAvA^A<vA<AA>>^AvAA<^A>A<v<A>A>^AAAvA<^A>A<vA>^A<A>A\",\n",
    "    \"179A\": \"<v<A>>^A<vA<A>>^AAvAA<^A>A<v<A>>^AAvA^A<vA>^AA<A>A<v<A>A>^AAAvA<^A>A\",\n",
    "    \"456A\": \"<v<A>>^AA<vA<A>>^AAvAA<^A>A<vA>^A<A>A<vA>^A<A>A<v<A>A>^AAvA<^A>A\",\n",
    "    \"379A\": \"<v<A>>^AvA^A<vA<AA>>^AAvA<^A>AAvA^A<vA>^AA<A>A<v<A>A>^AAAvA<^A>A\",\n",
    "}"
   ]
  },
  {
   "cell_type": "markdown",
   "metadata": {},
   "source": [
    "## Part 1"
   ]
  },
  {
   "cell_type": "code",
   "execution_count": null,
   "metadata": {},
   "outputs": [],
   "source": [
    "result = {\n",
    "    numeric_code: get_steps_options_rec(numeric_code, 2)\n",
    "    for numeric_code in tqdm(numeric_codes)\n",
    "}"
   ]
  },
  {
   "cell_type": "code",
   "execution_count": null,
   "metadata": {},
   "outputs": [],
   "source": [
    "score = 0\n",
    "for numeric, direction in result.items():\n",
    "    if numeric in test_res:\n",
    "        assert test_res[numeric] in direction\n",
    "    score += int(numeric[:-1]) * len(direction[0])\n",
    "score"
   ]
  },
  {
   "cell_type": "markdown",
   "metadata": {},
   "source": [
    "## Part 2"
   ]
  }
 ],
 "metadata": {
  "kernelspec": {
   "display_name": "env",
   "language": "python",
   "name": "python3"
  },
  "language_info": {
   "codemirror_mode": {
    "name": "ipython",
    "version": 3
   },
   "file_extension": ".py",
   "mimetype": "text/x-python",
   "name": "python",
   "nbconvert_exporter": "python",
   "pygments_lexer": "ipython3",
   "version": "3.12.1"
  }
 },
 "nbformat": 4,
 "nbformat_minor": 2
}
