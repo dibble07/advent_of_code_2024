{
 "cells": [
  {
   "cell_type": "markdown",
   "metadata": {},
   "source": [
    "## Part 1"
   ]
  },
  {
   "cell_type": "code",
   "execution_count": null,
   "metadata": {},
   "outputs": [],
   "source": [
    "with open(\"data/day4/input.txt\", \"r\") as file:\n",
    "    text = file.read()"
   ]
  },
  {
   "cell_type": "code",
   "execution_count": null,
   "metadata": {},
   "outputs": [],
   "source": [
    "target = \"XMAS\""
   ]
  },
  {
   "cell_type": "code",
   "execution_count": null,
   "metadata": {},
   "outputs": [],
   "source": [
    "text_rows = text.split()\n",
    "text_cols = [\"\".join(i) for i in (zip(*text_rows))]\n",
    "\n",
    "n = len(text_rows)\n",
    "\n",
    "text_back_diag = []\n",
    "for i in range(n):\n",
    "    text_back_diag.append(\n",
    "        \"\".join([text_rows[i - x][n - 1 - x] for x in range(min([n, i]), -1, -1)])\n",
    "    )\n",
    "for i in range(n - 1):\n",
    "    text_back_diag.append(\n",
    "        \"\".join([text_rows[n - 1 - i + x][x] for x in range(min([n, i + 1]))])\n",
    "    )\n",
    "\n",
    "text_for_diag = []\n",
    "for i in range(n):\n",
    "    text_for_diag.append(\"\".join([text_rows[i - x][x] for x in range(min([n, i + 1]))]))\n",
    "for i in range(n - 1):\n",
    "    text_for_diag.append(\n",
    "        \"\".join(\n",
    "            [text_rows[n - 1 - i + x][n - 1 - x] for x in range(min([n, i]), -1, -1)]\n",
    "        )\n",
    "    )"
   ]
  },
  {
   "cell_type": "code",
   "execution_count": null,
   "metadata": {},
   "outputs": [],
   "source": [
    "count = 0\n",
    "for text_orient in [text_rows, text_cols, text_back_diag, text_for_diag]:\n",
    "    count += sum([item.count(target) for item in text_orient])\n",
    "    count += sum([item.count(target[::-1]) for item in text_orient])\n",
    "count"
   ]
  },
  {
   "cell_type": "markdown",
   "metadata": {},
   "source": [
    "## Part 2"
   ]
  },
  {
   "cell_type": "code",
   "execution_count": null,
   "metadata": {},
   "outputs": [],
   "source": [
    "count = 0\n",
    "for n_row in range(1, n - 1):\n",
    "    for n_col in range(1, n - 1):\n",
    "        if text_rows[n_row][n_col] == \"A\":\n",
    "            bck = [text_rows[n_row - 1][n_col - 1], text_rows[n_row + 1][n_col + 1]]\n",
    "            fwd = [text_rows[n_row + 1][n_col - 1], text_rows[n_row - 1][n_col + 1]]\n",
    "            count += \"M\" in bck and \"S\" in bck and \"M\" in fwd and \"S\" in fwd\n",
    "count"
   ]
  }
 ],
 "metadata": {
  "kernelspec": {
   "display_name": "env",
   "language": "python",
   "name": "python3"
  },
  "language_info": {
   "codemirror_mode": {
    "name": "ipython",
    "version": 3
   },
   "file_extension": ".py",
   "mimetype": "text/x-python",
   "name": "python",
   "nbconvert_exporter": "python",
   "pygments_lexer": "ipython3",
   "version": "3.12.1"
  }
 },
 "nbformat": 4,
 "nbformat_minor": 2
}
