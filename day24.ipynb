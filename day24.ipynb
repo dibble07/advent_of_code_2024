{
 "cells": [
  {
   "cell_type": "code",
   "execution_count": null,
   "metadata": {},
   "outputs": [],
   "source": [
    "import re"
   ]
  },
  {
   "cell_type": "code",
   "execution_count": null,
   "metadata": {},
   "outputs": [],
   "source": [
    "def values_input_process(\n",
    "    text,\n",
    "):\n",
    "    pat = r\"([a-z\\d]{3}): (\\d)\"\n",
    "    matches = re.search(pat, text)\n",
    "    return matches.group(1), bool(int(matches.group(2)))"
   ]
  },
  {
   "cell_type": "code",
   "execution_count": null,
   "metadata": {},
   "outputs": [],
   "source": [
    "def gates_input_process(\n",
    "    text,\n",
    "):\n",
    "    pat = r\"([a-z\\d]{3}) ([A-Z]{2,3}) ([a-z\\d]{3}) -> ([a-z\\d]{3})\"\n",
    "    matches = re.search(pat, text)\n",
    "    return matches.group(4), {\n",
    "        \"inputs\": (matches.group(1), matches.group(3)),\n",
    "        \"func\": matches.group(2),\n",
    "    }"
   ]
  },
  {
   "cell_type": "code",
   "execution_count": null,
   "metadata": {},
   "outputs": [],
   "source": [
    "with open(\"data/day24/input.txt\", \"r\") as file:\n",
    "    input_raw = file.read()"
   ]
  },
  {
   "cell_type": "code",
   "execution_count": null,
   "metadata": {},
   "outputs": [],
   "source": [
    "values_raw, gates_raw = input_raw.split(\"\\n\\n\")"
   ]
  },
  {
   "cell_type": "code",
   "execution_count": null,
   "metadata": {},
   "outputs": [],
   "source": [
    "values = {k: v for k, v in [values_input_process(x) for x in values_raw.split(\"\\n\")]}"
   ]
  },
  {
   "cell_type": "code",
   "execution_count": null,
   "metadata": {},
   "outputs": [],
   "source": [
    "gates = {k: v for k, v in [gates_input_process(x) for x in gates_raw.split(\"\\n\")]}"
   ]
  },
  {
   "cell_type": "code",
   "execution_count": null,
   "metadata": {},
   "outputs": [],
   "source": [
    "functions = {\n",
    "    \"AND\": lambda x, y: x and y,\n",
    "    \"OR\": lambda x, y: x or y,\n",
    "    \"XOR\": lambda x, y: x ^ y,\n",
    "}"
   ]
  },
  {
   "cell_type": "code",
   "execution_count": null,
   "metadata": {},
   "outputs": [],
   "source": [
    "def get_value(name, values, functions, gates):\n",
    "    if name in values:\n",
    "        return values[name]\n",
    "    else:\n",
    "        x, y = gates[name][\"inputs\"]\n",
    "        func = gates[name][\"func\"]\n",
    "        val = functions[func](\n",
    "            get_value(x, values, functions, gates),\n",
    "            get_value(y, values, functions, gates),\n",
    "        )\n",
    "        values[name] = val\n",
    "        return val"
   ]
  },
  {
   "cell_type": "markdown",
   "metadata": {},
   "source": [
    "## Part 1"
   ]
  },
  {
   "cell_type": "code",
   "execution_count": null,
   "metadata": {},
   "outputs": [],
   "source": [
    "output_names = sorted([x for x in gates.keys() if x.startswith(\"z\")], reverse=True)\n",
    "int(\n",
    "    \"\".join(\n",
    "        [str(int(get_value(name, values, functions, gates))) for name in output_names]\n",
    "    ),\n",
    "    2,\n",
    ")"
   ]
  },
  {
   "cell_type": "markdown",
   "metadata": {},
   "source": [
    "## Part 2"
   ]
  }
 ],
 "metadata": {
  "kernelspec": {
   "display_name": "env",
   "language": "python",
   "name": "python3"
  },
  "language_info": {
   "codemirror_mode": {
    "name": "ipython",
    "version": 3
   },
   "file_extension": ".py",
   "mimetype": "text/x-python",
   "name": "python",
   "nbconvert_exporter": "python",
   "pygments_lexer": "ipython3",
   "version": "3.12.1"
  }
 },
 "nbformat": 4,
 "nbformat_minor": 2
}
