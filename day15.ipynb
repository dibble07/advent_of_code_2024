{
 "cells": [
  {
   "cell_type": "code",
   "execution_count": null,
   "metadata": {},
   "outputs": [],
   "source": [
    "import numpy as np\n",
    "from matplotlib import pyplot as plt\n",
    "from tqdm.auto import tqdm"
   ]
  },
  {
   "cell_type": "code",
   "execution_count": null,
   "metadata": {},
   "outputs": [],
   "source": [
    "def is_valid_index(array, index):\n",
    "    return (index >= 0).all() and (index < array.shape).all()\n",
    "\n",
    "\n",
    "def add_to_boxes(grid, visited, idx, box_idx):\n",
    "    if is_valid_index(grid, idx):\n",
    "        element = grid[*idx]\n",
    "        if element in \"[]\" and not visited[*idx]:\n",
    "            box_idx.add(tuple(int(x) for x in idx))\n",
    "            visited[*idx] = True\n",
    "            if element == \"[\":\n",
    "                add_to_boxes(grid, visited, idx + [0, 1], box_idx)\n",
    "            elif element == \"]\":\n",
    "                add_to_boxes(grid, visited, idx + [0, -1], box_idx)\n",
    "            add_to_boxes(grid, visited, idx + [-1, 0], box_idx)"
   ]
  },
  {
   "cell_type": "code",
   "execution_count": null,
   "metadata": {},
   "outputs": [],
   "source": [
    "with open(\"data/day15/input.txt\", \"r\") as file:\n",
    "    init_raw = file.read()"
   ]
  },
  {
   "cell_type": "code",
   "execution_count": null,
   "metadata": {},
   "outputs": [],
   "source": [
    "map_init_raw, directions_raw = init_raw.split(\"\\n\\n\")"
   ]
  },
  {
   "cell_type": "code",
   "execution_count": null,
   "metadata": {},
   "outputs": [],
   "source": [
    "directions = list(directions_raw.replace(\"\\n\", \"\"))"
   ]
  },
  {
   "cell_type": "code",
   "execution_count": null,
   "metadata": {},
   "outputs": [],
   "source": [
    "direction_map = {k: n for n, k in enumerate([\"^\", \">\", \"v\", \"<\"])}"
   ]
  },
  {
   "cell_type": "code",
   "execution_count": null,
   "metadata": {},
   "outputs": [],
   "source": [
    "gps_factor = np.array([100, 1])"
   ]
  },
  {
   "cell_type": "code",
   "execution_count": null,
   "metadata": {},
   "outputs": [],
   "source": [
    "char_to_int = {\"#\": 0, \"@\": 1, \"O\": 2, \".\": 3, \"[\": 4, \"]\": 5}\n",
    "char_to_img = np.vectorize(char_to_int.get)"
   ]
  },
  {
   "cell_type": "code",
   "execution_count": null,
   "metadata": {},
   "outputs": [],
   "source": [
    "char_swap = {\"[\": \"]\", \"]\": \"[\"}\n",
    "flip = np.vectorize(lambda x: char_swap.get(x, x))"
   ]
  },
  {
   "cell_type": "markdown",
   "metadata": {},
   "source": [
    "## Part 1"
   ]
  },
  {
   "cell_type": "code",
   "execution_count": null,
   "metadata": {},
   "outputs": [],
   "source": [
    "map_init = np.array([list(x) for x in map_init_raw.split(\"\\n\")])"
   ]
  },
  {
   "cell_type": "code",
   "execution_count": null,
   "metadata": {},
   "outputs": [],
   "source": [
    "map = map_init.copy()\n",
    "\n",
    "for direction in tqdm(directions):\n",
    "\n",
    "    map = np.rot90(map, k=direction_map[direction])\n",
    "    idx_robot = np.argwhere(map == \"@\")[0]\n",
    "\n",
    "    line_of_sight_full = np.flip(map[: idx_robot[0], idx_robot[1]])\n",
    "    d_wall = np.argwhere(line_of_sight_full == \"#\").min()\n",
    "    line_of_sight = line_of_sight_full[:d_wall]\n",
    "\n",
    "    if any(np.isin(line_of_sight, [\".\"])):\n",
    "        d_empty = np.argwhere(line_of_sight == \".\").min()\n",
    "        for i in range(d_empty + 1):\n",
    "            line_of_sight[i] = \"O\"\n",
    "        line_of_sight[0] = \"@\"\n",
    "        map[*idx_robot] = \".\"\n",
    "\n",
    "    map = np.rot90(map, k=4 - direction_map[direction])\n",
    "\n",
    "plt.imshow(char_to_img(map))\n",
    "plt.show()"
   ]
  },
  {
   "cell_type": "code",
   "execution_count": null,
   "metadata": {},
   "outputs": [],
   "source": [
    "int(np.matmul(np.argwhere(map == \"O\"), gps_factor).sum())"
   ]
  },
  {
   "cell_type": "markdown",
   "metadata": {},
   "source": [
    "## Part 2"
   ]
  },
  {
   "cell_type": "code",
   "execution_count": null,
   "metadata": {},
   "outputs": [],
   "source": [
    "map_init_wide_raw = (\n",
    "    map_init_raw.replace(\"#\", \"##\")\n",
    "    .replace(\"O\", \"[]\")\n",
    "    .replace(\".\", \"..\")\n",
    "    .replace(\"@\", \"@.\")\n",
    ")"
   ]
  },
  {
   "cell_type": "code",
   "execution_count": null,
   "metadata": {},
   "outputs": [],
   "source": [
    "map_init_wide = np.array([list(x) for x in map_init_wide_raw.split(\"\\n\")])"
   ]
  },
  {
   "cell_type": "code",
   "execution_count": null,
   "metadata": {},
   "outputs": [],
   "source": [
    "map_wide = map_init_wide.copy()\n",
    "\n",
    "for direction in tqdm(directions):\n",
    "\n",
    "    map_wide = np.rot90(map_wide, k=direction_map[direction])\n",
    "    idx_robot = np.argwhere(map_wide == \"@\")[0]\n",
    "\n",
    "    if direction in \"><\":\n",
    "\n",
    "        line_of_sight_full = np.flip(map_wide[: idx_robot[0], idx_robot[1]])\n",
    "        d_wall = np.argwhere(line_of_sight_full == \"#\").min()\n",
    "        line_of_sight = line_of_sight_full[:d_wall]\n",
    "\n",
    "        if any(np.isin(line_of_sight, [\".\"])):\n",
    "            d_empty = np.argwhere(line_of_sight == \".\").min()\n",
    "            for i in range(d_empty + 1):\n",
    "                if direction == \">\":\n",
    "                    char = \"]\" if i % 2 == 0 else \"[\"\n",
    "                elif direction == \"<\":\n",
    "                    char = \"]\" if i % 2 == 1 else \"[\"\n",
    "                line_of_sight[i] = char\n",
    "            line_of_sight[0] = \"@\"\n",
    "            map_wide[*idx_robot] = \".\"\n",
    "\n",
    "    elif direction in \"^v\":\n",
    "\n",
    "        if map_wide[*(idx_robot + [-1, 0])] != \"#\":\n",
    "\n",
    "            if direction == \"v\":\n",
    "                map_wide = flip(map_wide)\n",
    "\n",
    "            visited = np.zeros(map_wide.shape, dtype=bool)\n",
    "            box_idx = set()\n",
    "            add_to_boxes(map_wide, visited, idx_robot + [-1, 0], box_idx)\n",
    "            box_idx = np.array(list(box_idx))\n",
    "\n",
    "            box_mask = np.ones(map_wide.shape, dtype=bool)\n",
    "            box_mask_next = np.ones(map_wide.shape, dtype=bool)\n",
    "            for i in box_idx:\n",
    "                box_mask[*i] = False\n",
    "                box_mask_next[*(i + [-1, 0])] = False\n",
    "            map_wide_mask = np.ma.masked_array(map_wide.copy(), mask=box_mask)\n",
    "            map_wide_mask_next = np.ma.masked_array(map_wide.copy(), mask=box_mask_next)\n",
    "\n",
    "            if \"#\" not in np.ma.unique(map_wide_mask_next):\n",
    "                for i in box_idx:\n",
    "                    map_wide[*i] = \".\"\n",
    "                for i in box_idx:\n",
    "                    map_wide[*(i + [-1, 0])] = map_wide_mask[*i]\n",
    "                map_wide[*(idx_robot + [-1, 0])] = \"@\"\n",
    "                map_wide[*idx_robot] = \".\"\n",
    "\n",
    "            if direction == \"v\":\n",
    "                map_wide = flip(map_wide)\n",
    "\n",
    "    map_wide = np.rot90(map_wide, k=4 - direction_map[direction])\n",
    "\n",
    "plt.imshow(char_to_img(map_wide))\n",
    "plt.show()"
   ]
  },
  {
   "cell_type": "code",
   "execution_count": null,
   "metadata": {},
   "outputs": [],
   "source": [
    "int(np.matmul(np.argwhere(map_wide == \"[\"), gps_factor).sum())"
   ]
  }
 ],
 "metadata": {
  "kernelspec": {
   "display_name": "env",
   "language": "python",
   "name": "python3"
  },
  "language_info": {
   "codemirror_mode": {
    "name": "ipython",
    "version": 3
   },
   "file_extension": ".py",
   "mimetype": "text/x-python",
   "name": "python",
   "nbconvert_exporter": "python",
   "pygments_lexer": "ipython3",
   "version": "3.12.1"
  }
 },
 "nbformat": 4,
 "nbformat_minor": 2
}
