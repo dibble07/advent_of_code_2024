{
 "cells": [
  {
   "cell_type": "code",
   "execution_count": null,
   "metadata": {},
   "outputs": [],
   "source": [
    "from itertools import product\n",
    "\n",
    "import numpy as np\n",
    "from IPython.display import display, clear_output\n",
    "from matplotlib import pyplot as plt"
   ]
  },
  {
   "cell_type": "code",
   "execution_count": null,
   "metadata": {},
   "outputs": [],
   "source": [
    "char_to_int = {\"#\": 0, \".\": 1, \"E\": 2, \"S\": 3, \"*\": 4}\n",
    "char_to_img = np.vectorize(char_to_int.get)"
   ]
  },
  {
   "cell_type": "code",
   "execution_count": null,
   "metadata": {},
   "outputs": [],
   "source": [
    "with open(\"data/day16/input.txt\", \"r\") as file:\n",
    "    map_init_raw = file.read()"
   ]
  },
  {
   "cell_type": "code",
   "execution_count": null,
   "metadata": {},
   "outputs": [],
   "source": [
    "map_init = np.array([list(x) for x in map_init_raw.split(\"\\n\")])"
   ]
  },
  {
   "cell_type": "code",
   "execution_count": null,
   "metadata": {},
   "outputs": [],
   "source": [
    "dir_vec = {\n",
    "    0: (0, 1),  # E\n",
    "    1: (1, 0),  # S\n",
    "    2: (0, -1),  # W\n",
    "    3: (-1, 0),  # N\n",
    "}"
   ]
  },
  {
   "cell_type": "markdown",
   "metadata": {},
   "source": [
    "## Part 1"
   ]
  },
  {
   "cell_type": "code",
   "execution_count": null,
   "metadata": {},
   "outputs": [],
   "source": [
    "node_locs = np.argwhere(map_init != \"#\")\n",
    "node_loc_end = np.argwhere(map_init == \"E\")[0]\n",
    "node_loc_start = np.argwhere(map_init == \"S\")[0]"
   ]
  },
  {
   "cell_type": "code",
   "execution_count": null,
   "metadata": {},
   "outputs": [],
   "source": [
    "nodes = {\n",
    "    (int(x[0]), int(x[1]), y): {\"c\": np.inf, \"n\": None, \"v\": False}\n",
    "    for x, y in product(node_locs, range(4))\n",
    "}"
   ]
  },
  {
   "cell_type": "code",
   "execution_count": null,
   "metadata": {},
   "outputs": [],
   "source": [
    "d_max = np.abs(node_loc_end - node_loc_start).sum()\n",
    "d_loc = {\n",
    "    tuple(node_loc): np.abs(node_loc_end - node_loc).sum() / d_max\n",
    "    for node_loc in node_locs\n",
    "}"
   ]
  },
  {
   "cell_type": "code",
   "execution_count": null,
   "metadata": {},
   "outputs": [],
   "source": [
    "nodes[tuple(node_loc_start) + (0,)][\"c\"] = 0\n",
    "nodes[tuple(node_loc_start) + (0,)][\"n\"] = set()\n",
    "nodes[tuple(node_loc_start) + (0,)][\"n\"].add(\n",
    "    (int(node_loc_start[0]), int(node_loc_start[1]))\n",
    ")\n",
    "nodes[tuple(node_loc_start) + (0,)]"
   ]
  },
  {
   "cell_type": "code",
   "execution_count": null,
   "metadata": {},
   "outputs": [],
   "source": [
    "solved_poss_ind = [tuple(np.argwhere(map_init == \"E\")[0]) + (i,) for i in range(4)]"
   ]
  },
  {
   "cell_type": "code",
   "execution_count": null,
   "metadata": {},
   "outputs": [],
   "source": [
    "fig, ax = plt.subplots()\n",
    "iter = 0\n",
    "d_best = 1\n",
    "\n",
    "while not min([nodes[ind][\"c\"] for ind in solved_poss_ind]) < np.inf:\n",
    "\n",
    "    idx_visit = sorted(\n",
    "        [(idx, vals[\"c\"]) for idx, vals in nodes.items() if not vals[\"v\"]],\n",
    "        key=lambda x: x[1],\n",
    "    )[0][0]\n",
    "    node = nodes[idx_visit]\n",
    "    forward = dir_vec[idx_visit[2]]\n",
    "\n",
    "    for i_offset, offset in enumerate(\n",
    "        [(0, 0, 1, 1000), (0, 0, -1, 1000), forward + (0, 1)]\n",
    "    ):\n",
    "\n",
    "        idx_cons = (\n",
    "            idx_visit[0] + offset[0],\n",
    "            idx_visit[1] + offset[1],\n",
    "            (idx_visit[2] + offset[2]) % 4,\n",
    "        )\n",
    "        if idx_cons in nodes:\n",
    "            if node[\"c\"] + offset[3] < nodes[idx_cons][\"c\"]:\n",
    "                nodes[idx_cons][\"c\"] = node[\"c\"] + offset[3]\n",
    "                nodes[idx_cons][\"n\"] = node[\"n\"].copy()\n",
    "                nodes[idx_cons][\"n\"].add(idx_cons[:2])\n",
    "            elif node[\"c\"] + offset[3] == nodes[idx_cons][\"c\"]:\n",
    "                nodes[idx_cons][\"n\"].update(node[\"n\"])\n",
    "                nodes[idx_cons][\"n\"].add(idx_cons[:2])\n",
    "\n",
    "            if i_offset == 2:\n",
    "                d_curr = d_loc[idx_cons[:2]]\n",
    "                if d_curr < np.floor(d_best * 100) / 100:\n",
    "                    d_best = d_curr\n",
    "                    node_paths = nodes[idx_cons][\"n\"]\n",
    "                    map = map_init.copy()\n",
    "                    for i in list(nodes[idx_cons][\"n\"]):\n",
    "                        map[*i] = \"*\"\n",
    "                    ax.imshow(char_to_img(map))\n",
    "                    ax.set_title(f\"Iteration: {iter} ({1-d_best:.2f})\")\n",
    "                    display(fig)\n",
    "                    clear_output(wait=True)\n",
    "\n",
    "    node[\"v\"] = True\n",
    "    iter += 1\n",
    "\n",
    "solved_ind = sorted(\n",
    "    [(ind, nodes[ind][\"c\"]) for ind in solved_poss_ind], key=lambda x: x[1]\n",
    ")[0][0]\n",
    "\n",
    "map = map_init.copy()\n",
    "for i in list(nodes[solved_ind][\"n\"]):\n",
    "    map[*i] = \"*\"\n",
    "ax.imshow(char_to_img(map))\n",
    "ax.set_title(f\"Iteration: {iter} ({1-d_best:.2f})\")\n",
    "display(fig)\n",
    "clear_output(wait=True)"
   ]
  },
  {
   "cell_type": "code",
   "execution_count": null,
   "metadata": {},
   "outputs": [],
   "source": [
    "nodes[solved_ind][\"c\"]"
   ]
  },
  {
   "cell_type": "markdown",
   "metadata": {},
   "source": [
    "## Part 2"
   ]
  },
  {
   "cell_type": "code",
   "execution_count": null,
   "metadata": {},
   "outputs": [],
   "source": [
    "len(nodes[solved_ind][\"n\"])"
   ]
  }
 ],
 "metadata": {
  "kernelspec": {
   "display_name": "env",
   "language": "python",
   "name": "python3"
  },
  "language_info": {
   "codemirror_mode": {
    "name": "ipython",
    "version": 3
   },
   "file_extension": ".py",
   "mimetype": "text/x-python",
   "name": "python",
   "nbconvert_exporter": "python",
   "pygments_lexer": "ipython3",
   "version": "3.12.1"
  }
 },
 "nbformat": 4,
 "nbformat_minor": 2
}
