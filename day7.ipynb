{
 "cells": [
  {
   "cell_type": "code",
   "execution_count": null,
   "metadata": {},
   "outputs": [],
   "source": [
    "from itertools import product\n",
    "\n",
    "from tqdm.autonotebook import tqdm"
   ]
  },
  {
   "cell_type": "code",
   "execution_count": null,
   "metadata": {},
   "outputs": [],
   "source": [
    "def get_total(possible_operators, equations):\n",
    "    total = 0\n",
    "    for target, components in tqdm(equations):\n",
    "        for operators_poss in product(possible_operators, repeat=len(components) - 1):\n",
    "            components_copy = components.copy()\n",
    "            for operator in operators_poss:\n",
    "                if operator == \"*\":\n",
    "                    new = components_copy[0] * components_copy[1]\n",
    "                elif operator == \"+\":\n",
    "                    new = components_copy[0] + components_copy[1]\n",
    "                elif operator == \"|\":\n",
    "                    new = int(str(components_copy[0]) + str(components_copy[1]))\n",
    "                else:\n",
    "                    raise ValueError()\n",
    "                components_copy = [new] + components_copy[2:]\n",
    "            if target == components_copy[0]:\n",
    "                total += target\n",
    "                break\n",
    "    return total"
   ]
  },
  {
   "cell_type": "markdown",
   "metadata": {},
   "source": [
    "## Part 1"
   ]
  },
  {
   "cell_type": "code",
   "execution_count": null,
   "metadata": {},
   "outputs": [],
   "source": [
    "with open(\"data/day7/input.txt\", \"r\") as file:\n",
    "    equations_raw = file.read()"
   ]
  },
  {
   "cell_type": "code",
   "execution_count": null,
   "metadata": {},
   "outputs": [],
   "source": [
    "equations_split = [x.split(\":\") for x in equations_raw.split(\"\\n\")]\n",
    "equations = [\n",
    "    (int(eq[0]), [int(val) for val in eq[1].strip().split(\" \")])\n",
    "    for eq in equations_split\n",
    "]"
   ]
  },
  {
   "cell_type": "code",
   "execution_count": null,
   "metadata": {},
   "outputs": [],
   "source": [
    "get_total(\"*+\", equations)"
   ]
  },
  {
   "cell_type": "markdown",
   "metadata": {},
   "source": [
    "## Part 2"
   ]
  },
  {
   "cell_type": "code",
   "execution_count": null,
   "metadata": {},
   "outputs": [],
   "source": [
    "get_total(\"*+|\", equations)"
   ]
  }
 ],
 "metadata": {
  "kernelspec": {
   "display_name": "env",
   "language": "python",
   "name": "python3"
  },
  "language_info": {
   "codemirror_mode": {
    "name": "ipython",
    "version": 3
   },
   "file_extension": ".py",
   "mimetype": "text/x-python",
   "name": "python",
   "nbconvert_exporter": "python",
   "pygments_lexer": "ipython3",
   "version": "3.12.1"
  }
 },
 "nbformat": 4,
 "nbformat_minor": 2
}
