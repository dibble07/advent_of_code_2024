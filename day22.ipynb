{
 "cells": [
  {
   "cell_type": "code",
   "execution_count": null,
   "metadata": {},
   "outputs": [],
   "source": [
    "from functools import cache\n",
    "from itertools import pairwise\n",
    "\n",
    "from tqdm.auto import tqdm"
   ]
  },
  {
   "cell_type": "code",
   "execution_count": null,
   "metadata": {},
   "outputs": [],
   "source": [
    "with open(\"data/day22/input.txt\", \"r\") as file:\n",
    "    secrets_raw = file.read()\n",
    "\n",
    "# secrets_raw = \"\"\"1\n",
    "# 10\n",
    "# 100\n",
    "# 2024\"\"\"\n",
    "\n",
    "# secrets_raw = \"123\"\n",
    "\n",
    "# secrets_raw = \"\"\"1\n",
    "# 2\n",
    "# 3\n",
    "# 2024\"\"\""
   ]
  },
  {
   "cell_type": "code",
   "execution_count": null,
   "metadata": {},
   "outputs": [],
   "source": [
    "secrets = [int(x) for x in secrets_raw.split(\"\\n\")]"
   ]
  },
  {
   "cell_type": "code",
   "execution_count": null,
   "metadata": {},
   "outputs": [],
   "source": [
    "n = 2000"
   ]
  },
  {
   "cell_type": "code",
   "execution_count": null,
   "metadata": {},
   "outputs": [],
   "source": [
    "test_results = {\n",
    "    1: 8685429,\n",
    "    10: 4700978,\n",
    "    100: 15273692,\n",
    "    2024: 8667524,\n",
    "}"
   ]
  },
  {
   "cell_type": "code",
   "execution_count": null,
   "metadata": {},
   "outputs": [],
   "source": [
    "@cache\n",
    "def pseudorandom(x):\n",
    "    x = (x * 64) ^ x\n",
    "    x = x % 16777216\n",
    "    x = (x // 32) ^ x\n",
    "    x = x % 16777216\n",
    "    x = (x * 2048) ^ x\n",
    "    x = x % 16777216\n",
    "    return x"
   ]
  },
  {
   "cell_type": "code",
   "execution_count": null,
   "metadata": {},
   "outputs": [],
   "source": [
    "def pseudorandom_n(x, n):\n",
    "    output = [x]\n",
    "    for _ in range(n):\n",
    "        x = pseudorandom(x)\n",
    "        output.append(x)\n",
    "    return output"
   ]
  },
  {
   "cell_type": "markdown",
   "metadata": {},
   "source": [
    "## Part 1"
   ]
  },
  {
   "cell_type": "code",
   "execution_count": null,
   "metadata": {},
   "outputs": [],
   "source": [
    "secrets_all = {secret: pseudorandom_n(secret, n) for secret in tqdm(secrets)}"
   ]
  },
  {
   "cell_type": "code",
   "execution_count": null,
   "metadata": {},
   "outputs": [],
   "source": [
    "assert all(\n",
    "    [test_results[k] == v[-1] for k, v in secrets_all.items() if k in test_results]\n",
    ")"
   ]
  },
  {
   "cell_type": "code",
   "execution_count": null,
   "metadata": {},
   "outputs": [],
   "source": [
    "sum([x[-1] for x in secrets_all.values()])"
   ]
  },
  {
   "cell_type": "markdown",
   "metadata": {},
   "source": [
    "## Part 2"
   ]
  },
  {
   "cell_type": "code",
   "execution_count": null,
   "metadata": {},
   "outputs": [],
   "source": [
    "prices_all = {k: list(map(lambda x: x % 10, v)) for k, v in secrets_all.items()}"
   ]
  },
  {
   "cell_type": "code",
   "execution_count": null,
   "metadata": {},
   "outputs": [],
   "source": [
    "prices_diff_all = {\n",
    "    k: list(map(lambda x: x[1] - x[0], pairwise(v))) for k, v in prices_all.items()\n",
    "}"
   ]
  },
  {
   "cell_type": "code",
   "execution_count": null,
   "metadata": {},
   "outputs": [],
   "source": [
    "prices_all_map = {k: {} for k in prices_diff_all.keys()}\n",
    "for init, prices_diff in prices_diff_all.items():\n",
    "    for i in range(len(prices_diff) - 4):\n",
    "        seq = tuple(prices_diff[i : i + 4])\n",
    "        if seq not in prices_all_map[init]:\n",
    "            prices_all_map[init][seq] = prices_all[init][i + 4]"
   ]
  },
  {
   "cell_type": "code",
   "execution_count": null,
   "metadata": {},
   "outputs": [],
   "source": [
    "sequences_possible = set()\n",
    "for map_ in prices_all_map.values():\n",
    "    sequences_possible.update(set(map_.keys()))"
   ]
  },
  {
   "cell_type": "code",
   "execution_count": null,
   "metadata": {},
   "outputs": [],
   "source": [
    "best_score = 0\n",
    "for seq in sequences_possible:\n",
    "    score = sum([map_.get(seq, 0) for map_ in prices_all_map.values()])\n",
    "    if score > best_score:\n",
    "        best_score = score\n",
    "        best_seq = seq\n",
    "\n",
    "best_score, best_seq"
   ]
  }
 ],
 "metadata": {
  "kernelspec": {
   "display_name": "env",
   "language": "python",
   "name": "python3"
  },
  "language_info": {
   "codemirror_mode": {
    "name": "ipython",
    "version": 3
   },
   "file_extension": ".py",
   "mimetype": "text/x-python",
   "name": "python",
   "nbconvert_exporter": "python",
   "pygments_lexer": "ipython3",
   "version": "3.12.1"
  }
 },
 "nbformat": 4,
 "nbformat_minor": 2
}
