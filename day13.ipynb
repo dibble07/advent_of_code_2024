{
 "cells": [
  {
   "cell_type": "code",
   "execution_count": null,
   "metadata": {},
   "outputs": [],
   "source": [
    "import re\n",
    "\n",
    "import numpy as np"
   ]
  },
  {
   "cell_type": "code",
   "execution_count": null,
   "metadata": {},
   "outputs": [],
   "source": [
    "def input_process(text):\n",
    "    pattern = r\"Button A: X\\+(\\d+), Y\\+(\\d+)\\nButton B: X\\+(\\d+), Y\\+(\\d+)\\nPrize: X=(\\d+), Y=(\\d+)\"\n",
    "    match = re.search(pattern, text)\n",
    "    out = {\n",
    "        \"M\": np.array(\n",
    "            [\n",
    "                [int(match.group(1)), int(match.group(3))],\n",
    "                [int(match.group(2)), int(match.group(4))],\n",
    "            ]\n",
    "        ),\n",
    "        \"T\": np.array([int(match.group(5)), int(match.group(6))]),\n",
    "    }\n",
    "    return out"
   ]
  },
  {
   "cell_type": "markdown",
   "metadata": {},
   "source": [
    "## Part 1"
   ]
  },
  {
   "cell_type": "code",
   "execution_count": null,
   "metadata": {},
   "outputs": [],
   "source": [
    "with open(\"data/day13/input.txt\", \"r\") as file:\n",
    "    claw_def_raw = file.read()"
   ]
  },
  {
   "cell_type": "code",
   "execution_count": null,
   "metadata": {},
   "outputs": [],
   "source": [
    "claw_defs = [input_process(text) for text in claw_def_raw.split(\"\\n\\n\")]\n",
    "C = np.array([3, 1])"
   ]
  },
  {
   "cell_type": "code",
   "execution_count": null,
   "metadata": {},
   "outputs": [],
   "source": [
    "results = []\n",
    "for claw_def in claw_defs:\n",
    "    M_inv = np.linalg.inv(claw_def[\"M\"])\n",
    "    N = np.matmul(M_inv, claw_def[\"T\"])\n",
    "    is_int = all(np.matmul(claw_def[\"M\"], np.round(N)) == claw_def[\"T\"])\n",
    "    cost = np.matmul(N, C)\n",
    "    results.append((N, is_int, cost))\n",
    "\n",
    "int(sum([result[2] for result in results if result[1]]))"
   ]
  },
  {
   "cell_type": "markdown",
   "metadata": {},
   "source": [
    "## Part 2"
   ]
  },
  {
   "cell_type": "code",
   "execution_count": null,
   "metadata": {},
   "outputs": [],
   "source": [
    "results = []\n",
    "for claw_def in claw_defs:\n",
    "    M_inv = np.linalg.inv(claw_def[\"M\"])\n",
    "    T = claw_def[\"T\"] + 10000000000000\n",
    "    N = np.matmul(M_inv, T)\n",
    "    is_int = all(np.matmul(claw_def[\"M\"], np.round(N)) == T)\n",
    "    cost = np.matmul(N, C)\n",
    "    results.append((N, is_int, cost))\n",
    "\n",
    "int(sum([result[2] for result in results if result[1]]))"
   ]
  }
 ],
 "metadata": {
  "kernelspec": {
   "display_name": "env",
   "language": "python",
   "name": "python3"
  },
  "language_info": {
   "codemirror_mode": {
    "name": "ipython",
    "version": 3
   },
   "file_extension": ".py",
   "mimetype": "text/x-python",
   "name": "python",
   "nbconvert_exporter": "python",
   "pygments_lexer": "ipython3",
   "version": "3.12.1"
  }
 },
 "nbformat": 4,
 "nbformat_minor": 2
}
