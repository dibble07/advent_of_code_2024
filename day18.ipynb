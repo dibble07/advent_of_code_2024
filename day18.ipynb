{
 "cells": [
  {
   "cell_type": "code",
   "execution_count": null,
   "metadata": {},
   "outputs": [],
   "source": [
    "import sys\n",
    "\n",
    "import numpy as np\n",
    "from IPython.display import display, clear_output\n",
    "from matplotlib import pyplot as plt\n",
    "from tqdm.auto import tqdm\n",
    "\n",
    "sys.setrecursionlimit(10_000)"
   ]
  },
  {
   "cell_type": "code",
   "execution_count": null,
   "metadata": {},
   "outputs": [],
   "source": [
    "def is_valid_index(array, index):\n",
    "    return (index >= 0).all() and (index < array.shape).all()"
   ]
  },
  {
   "cell_type": "code",
   "execution_count": null,
   "metadata": {},
   "outputs": [],
   "source": [
    "def add_to_region(grid, visited, idx, region):\n",
    "    if is_valid_index(grid, idx) and not visited[*idx] and grid[*idx]:\n",
    "        region.add((int(idx[0]), int(idx[1])))\n",
    "        visited[*idx] = True\n",
    "        for offset in [[0, 1], [0, -1], [1, 0], [-1, 0]]:\n",
    "            add_to_region(grid, visited, idx + offset, region)\n",
    "\n",
    "\n",
    "def is_path(byte_coords, grid_size, start, end):\n",
    "    map = np.full((grid_size, grid_size), True)\n",
    "    for bc in byte_coords:\n",
    "        map[bc[1], bc[0]] = False\n",
    "\n",
    "    visited = np.zeros(map.shape, dtype=bool)\n",
    "    region = set()\n",
    "    add_to_region(map, visited, start, region)\n",
    "\n",
    "    return tuple(end) in region"
   ]
  },
  {
   "cell_type": "code",
   "execution_count": null,
   "metadata": {},
   "outputs": [],
   "source": [
    "char_to_int = {\"#\": 0, \".\": 1, \"E\": 2, \"S\": 3, \"*\": 4, \"?\": 5}\n",
    "char_to_img = np.vectorize(char_to_int.get)"
   ]
  },
  {
   "cell_type": "code",
   "execution_count": null,
   "metadata": {},
   "outputs": [],
   "source": [
    "with open(\"data/day18/input.txt\", \"r\") as file:\n",
    "    byte_coords_raw = file.read()\n",
    "grid_size = 71\n",
    "n_bytes = 1024"
   ]
  },
  {
   "cell_type": "code",
   "execution_count": null,
   "metadata": {},
   "outputs": [],
   "source": [
    "byte_coords = [tuple(int(y) for y in x.split(\",\")) for x in byte_coords_raw.split(\"\\n\")]"
   ]
  },
  {
   "cell_type": "markdown",
   "metadata": {},
   "source": [
    "## Part 1"
   ]
  },
  {
   "cell_type": "code",
   "execution_count": null,
   "metadata": {},
   "outputs": [],
   "source": [
    "node_loc_end = np.array((grid_size - 1, grid_size - 1))\n",
    "node_loc_start = np.array((0, 0))"
   ]
  },
  {
   "cell_type": "code",
   "execution_count": null,
   "metadata": {},
   "outputs": [],
   "source": [
    "map_p1 = np.full((grid_size, grid_size), \".\")\n",
    "for bc in byte_coords[:n_bytes]:\n",
    "    map_p1[bc[1], bc[0]] = \"#\"\n",
    "map_p1[node_loc_start[1], node_loc_start[0]] = \"S\"\n",
    "map_p1[node_loc_end[1], node_loc_end[0]] = \"E\""
   ]
  },
  {
   "cell_type": "code",
   "execution_count": null,
   "metadata": {},
   "outputs": [],
   "source": [
    "node_locs = np.argwhere(map_p1 != \"#\")"
   ]
  },
  {
   "cell_type": "code",
   "execution_count": null,
   "metadata": {},
   "outputs": [],
   "source": [
    "d_max = np.abs(node_loc_end - node_loc_start).sum()\n",
    "d_loc = {\n",
    "    tuple(node_loc): np.abs(node_loc_end - node_loc).sum() for node_loc in node_locs\n",
    "}"
   ]
  },
  {
   "cell_type": "code",
   "execution_count": null,
   "metadata": {},
   "outputs": [],
   "source": [
    "nodes = {\n",
    "    (int(x), int(y)): {\n",
    "        \"c\": np.inf,\n",
    "        \"d\": int(d_loc[(x, y)]),\n",
    "        \"n\": None,\n",
    "        \"v\": False,\n",
    "    }\n",
    "    for x, y in node_locs\n",
    "}"
   ]
  },
  {
   "cell_type": "code",
   "execution_count": null,
   "metadata": {},
   "outputs": [],
   "source": [
    "nodes[tuple(node_loc_start)][\"c\"] = 0\n",
    "nodes[tuple(node_loc_start)][\"n\"] = set()\n",
    "nodes[tuple(node_loc_start)][\"n\"].add((int(node_loc_start[0]), int(node_loc_start[1])))"
   ]
  },
  {
   "cell_type": "code",
   "execution_count": null,
   "metadata": {},
   "outputs": [],
   "source": [
    "fig, ax = plt.subplots()\n",
    "iter = 0\n",
    "d_best = 1\n",
    "\n",
    "idx_visit = tuple(node_loc_start)\n",
    "\n",
    "while not all([e == c for e, c in zip(node_loc_end, idx_visit[:2])]):\n",
    "\n",
    "    node = nodes[idx_visit]\n",
    "\n",
    "    for i_offset, offset in enumerate([(0, 1), (1, 0), (0, -1), (-1, 0)]):\n",
    "\n",
    "        idx_cons = (\n",
    "            idx_visit[0] + offset[0],\n",
    "            idx_visit[1] + offset[1],\n",
    "        )\n",
    "        if idx_cons in nodes:\n",
    "            if node[\"c\"] + 1 < nodes[idx_cons][\"c\"]:\n",
    "                nodes[idx_cons][\"c\"] = node[\"c\"] + 1\n",
    "                nodes[idx_cons][\"n\"] = node[\"n\"].copy()\n",
    "                nodes[idx_cons][\"n\"].add(idx_cons[:2])\n",
    "\n",
    "            d_curr = d_loc[idx_cons[:2]] / d_max\n",
    "            if d_curr < np.floor(d_best * 100) / 100 or d_curr == 0:\n",
    "                d_best = d_curr\n",
    "                node_paths = nodes[idx_cons][\"n\"]\n",
    "                map = map_p1.copy()\n",
    "                for i in [idx[:2] for idx, vals in nodes.items() if vals[\"v\"]]:\n",
    "                    map[*i] = \"?\"\n",
    "                for i in list(nodes[idx_cons][\"n\"]):\n",
    "                    map[*i] = \"*\"\n",
    "                ax.imshow(char_to_img(map))\n",
    "                ax.set_title(f\"Iteration: {iter} ({1-d_best:.2f})\")\n",
    "                display(fig)\n",
    "                clear_output(wait=True)\n",
    "\n",
    "    node[\"v\"] = True\n",
    "    iter += 1\n",
    "    idx_visit = sorted(\n",
    "        [(idx, vals[\"c\"] + vals[\"d\"]) for idx, vals in nodes.items() if not vals[\"v\"]],\n",
    "        key=lambda x: x[1],\n",
    "    )[0][0]\n",
    "\n",
    "map = map_p1.copy()\n",
    "for i in [idx[:2] for idx, vals in nodes.items() if vals[\"v\"]]:\n",
    "    map[*i] = \"?\"\n",
    "for i in list(nodes[tuple(node_loc_end)][\"n\"]):\n",
    "    map[*i] = \"*\"\n",
    "ax.imshow(char_to_img(map))\n",
    "ax.set_title(f\"Iteration: {iter} ({1-d_best:.2f})\")\n",
    "display(fig)\n",
    "clear_output(wait=True)"
   ]
  },
  {
   "cell_type": "code",
   "execution_count": null,
   "metadata": {},
   "outputs": [],
   "source": [
    "nodes[tuple(node_loc_end)][\"c\"]"
   ]
  },
  {
   "cell_type": "markdown",
   "metadata": {},
   "source": [
    "## Part 2"
   ]
  },
  {
   "cell_type": "code",
   "execution_count": null,
   "metadata": {},
   "outputs": [],
   "source": [
    "n_lower = 0\n",
    "n_upper = len(byte_coords)\n",
    "\n",
    "while n_upper - n_lower > 1:\n",
    "    n_mid = (n_upper + n_lower) // 2\n",
    "    if is_path(byte_coords[:n_mid], grid_size, node_loc_start, node_loc_end):\n",
    "        n_lower = n_mid\n",
    "    else:\n",
    "        n_upper = n_mid\n",
    "\n",
    "byte_coords[n_upper - 1]"
   ]
  }
 ],
 "metadata": {
  "kernelspec": {
   "display_name": "env",
   "language": "python",
   "name": "python3"
  },
  "language_info": {
   "codemirror_mode": {
    "name": "ipython",
    "version": 3
   },
   "file_extension": ".py",
   "mimetype": "text/x-python",
   "name": "python",
   "nbconvert_exporter": "python",
   "pygments_lexer": "ipython3",
   "version": "3.12.1"
  }
 },
 "nbformat": 4,
 "nbformat_minor": 2
}
