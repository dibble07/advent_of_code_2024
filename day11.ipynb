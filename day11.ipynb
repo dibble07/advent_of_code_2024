{
 "cells": [
  {
   "cell_type": "code",
   "execution_count": 1,
   "metadata": {},
   "outputs": [],
   "source": [
    "from functools import cache"
   ]
  },
  {
   "cell_type": "code",
   "execution_count": 2,
   "metadata": {},
   "outputs": [],
   "source": [
    "@cache\n",
    "def stone_count(stone, n):\n",
    "    if n == 0:\n",
    "        return 1\n",
    "    else:\n",
    "        stone_str = str(stone)\n",
    "        if stone == 0:\n",
    "            return stone_count(1, n - 1)\n",
    "        elif len(stone_str) % 2 == 0:\n",
    "            split_ind = int(len(stone_str) / 2)\n",
    "            return stone_count(int(stone_str[:split_ind]), n - 1) + stone_count(\n",
    "                int(stone_str[split_ind:]), n - 1\n",
    "            )\n",
    "        else:\n",
    "            return stone_count(stone * 2024, n - 1)"
   ]
  },
  {
   "cell_type": "markdown",
   "metadata": {},
   "source": [
    "## Part 1"
   ]
  },
  {
   "cell_type": "code",
   "execution_count": 3,
   "metadata": {},
   "outputs": [],
   "source": [
    "with open(\"data/day11/input.txt\", \"r\") as file:\n",
    "    stones_raw = file.read()\n",
    "\n",
    "# stones_raw = \"125 17\""
   ]
  },
  {
   "cell_type": "code",
   "execution_count": 4,
   "metadata": {},
   "outputs": [
    {
     "data": {
      "text/plain": [
       "[77, 515, 6779622, 6, 91370, 959685, 0, 9861]"
      ]
     },
     "execution_count": 4,
     "metadata": {},
     "output_type": "execute_result"
    }
   ],
   "source": [
    "stones = [int(x) for x in stones_raw.split(\" \")]\n",
    "stones"
   ]
  },
  {
   "cell_type": "code",
   "execution_count": 5,
   "metadata": {},
   "outputs": [
    {
     "data": {
      "text/plain": [
       "187738"
      ]
     },
     "execution_count": 5,
     "metadata": {},
     "output_type": "execute_result"
    }
   ],
   "source": [
    "sum([stone_count(stone, 25) for stone in stones])"
   ]
  },
  {
   "cell_type": "markdown",
   "metadata": {},
   "source": [
    "## Part 2"
   ]
  },
  {
   "cell_type": "code",
   "execution_count": 6,
   "metadata": {},
   "outputs": [
    {
     "data": {
      "text/plain": [
       "223767210249237"
      ]
     },
     "execution_count": 6,
     "metadata": {},
     "output_type": "execute_result"
    }
   ],
   "source": [
    "sum([stone_count(stone, 75) for stone in stones])"
   ]
  }
 ],
 "metadata": {
  "kernelspec": {
   "display_name": "env",
   "language": "python",
   "name": "python3"
  },
  "language_info": {
   "codemirror_mode": {
    "name": "ipython",
    "version": 3
   },
   "file_extension": ".py",
   "mimetype": "text/x-python",
   "name": "python",
   "nbconvert_exporter": "python",
   "pygments_lexer": "ipython3",
   "version": "3.12.1"
  }
 },
 "nbformat": 4,
 "nbformat_minor": 2
}
