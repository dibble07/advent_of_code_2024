{
 "cells": [
  {
   "cell_type": "code",
   "execution_count": null,
   "metadata": {},
   "outputs": [],
   "source": [
    "import sys\n",
    "from itertools import combinations\n",
    "\n",
    "import numpy as np\n",
    "from matplotlib import pyplot as plt\n",
    "from tqdm.auto import tqdm\n",
    "\n",
    "sys.setrecursionlimit(10_000)"
   ]
  },
  {
   "cell_type": "code",
   "execution_count": null,
   "metadata": {},
   "outputs": [],
   "source": [
    "def is_valid_index(array, index):\n",
    "    return (index >= 0).all() and (index < array.shape).all()"
   ]
  },
  {
   "cell_type": "code",
   "execution_count": null,
   "metadata": {},
   "outputs": [],
   "source": [
    "def add_to_region(grid, visited, idx, region):\n",
    "    if is_valid_index(grid, idx) and not visited[*idx] and grid[*idx]:\n",
    "        region.append((int(idx[0]), int(idx[1])))\n",
    "        visited[*idx] = True\n",
    "        for offset in [[0, 1], [0, -1], [1, 0], [-1, 0]]:\n",
    "            add_to_region(grid, visited, idx + offset, region)\n",
    "\n",
    "\n",
    "def get_path(grid, start):\n",
    "    visited = np.zeros(grid.shape, dtype=bool)\n",
    "    region = []\n",
    "    add_to_region(grid, visited, start, region)\n",
    "\n",
    "    return region"
   ]
  },
  {
   "cell_type": "code",
   "execution_count": null,
   "metadata": {},
   "outputs": [],
   "source": [
    "def manhatten_dist(a, b):\n",
    "    return abs(b[0] - a[0]) + abs(b[1] - a[1])"
   ]
  },
  {
   "cell_type": "code",
   "execution_count": null,
   "metadata": {},
   "outputs": [],
   "source": [
    "char_to_int = {\"#\": 0, \".\": 1, \"E\": 2, \"S\": 3, \"*\": 4, \"?\": 5}\n",
    "char_to_img = np.vectorize(char_to_int.get)"
   ]
  },
  {
   "cell_type": "code",
   "execution_count": null,
   "metadata": {},
   "outputs": [],
   "source": [
    "with open(\"data/day20/input.txt\", \"r\") as file:\n",
    "    map_init_raw = file.read()\n",
    "\n",
    "# map_init_raw = \"\"\"###############\n",
    "# #...#...#.....#\n",
    "# #.#.#.#.#.###.#\n",
    "# #S#...#.#.#...#\n",
    "# #######.#.#.###\n",
    "# #######.#.#...#\n",
    "# #######.#.###.#\n",
    "# ###..E#...#...#\n",
    "# ###.#######.###\n",
    "# #...###...#...#\n",
    "# #.#####.#.###.#\n",
    "# #.#...#.#.#...#\n",
    "# #.#.#.#.#.#.###\n",
    "# #...#...#...###\n",
    "# ###############\"\"\""
   ]
  },
  {
   "cell_type": "code",
   "execution_count": null,
   "metadata": {},
   "outputs": [],
   "source": [
    "map_init = np.array([list(x) for x in map_init_raw.split(\"\\n\")])"
   ]
  },
  {
   "cell_type": "code",
   "execution_count": null,
   "metadata": {},
   "outputs": [],
   "source": [
    "fig, ax = plt.subplots()\n",
    "ax.imshow(char_to_img(map_init))"
   ]
  },
  {
   "cell_type": "code",
   "execution_count": null,
   "metadata": {},
   "outputs": [],
   "source": [
    "node_loc_start = np.argwhere(map_init == \"S\")[0]\n",
    "ref_path = get_path(map_init != \"#\", node_loc_start)\n",
    "ref_path_dist = {k: i for i, k in enumerate(ref_path)}"
   ]
  },
  {
   "cell_type": "markdown",
   "metadata": {},
   "source": [
    "## Part 1"
   ]
  },
  {
   "cell_type": "code",
   "execution_count": null,
   "metadata": {},
   "outputs": [],
   "source": [
    "cheat_length = 2"
   ]
  },
  {
   "cell_type": "code",
   "execution_count": null,
   "metadata": {},
   "outputs": [],
   "source": [
    "node_cheat_pairs = [\n",
    "    (x, y, manhatten_dist(x, y))\n",
    "    for x, y in combinations(ref_path, r=2)\n",
    "    if 1 < manhatten_dist(x, y) <= cheat_length\n",
    "]"
   ]
  },
  {
   "cell_type": "code",
   "execution_count": null,
   "metadata": {},
   "outputs": [],
   "source": [
    "cheat_saving = {}\n",
    "for idx_cheat_a, idx_cheat_b, dist in node_cheat_pairs:\n",
    "    cheat_saving[(idx_cheat_a, idx_cheat_b)] = (\n",
    "        abs(ref_path_dist[idx_cheat_a] - ref_path_dist[idx_cheat_b]) - dist\n",
    "    )"
   ]
  },
  {
   "cell_type": "code",
   "execution_count": null,
   "metadata": {},
   "outputs": [],
   "source": [
    "sum([x >= 100 for x in cheat_saving.values()])"
   ]
  },
  {
   "cell_type": "markdown",
   "metadata": {},
   "source": [
    "## Part 2"
   ]
  },
  {
   "cell_type": "code",
   "execution_count": null,
   "metadata": {},
   "outputs": [],
   "source": [
    "cheat_length = 20"
   ]
  },
  {
   "cell_type": "code",
   "execution_count": null,
   "metadata": {},
   "outputs": [],
   "source": [
    "node_cheat_pairs = [\n",
    "    (x, y, manhatten_dist(x, y))\n",
    "    for x, y in combinations(ref_path, r=2)\n",
    "    if 1 < manhatten_dist(x, y) <= cheat_length\n",
    "]"
   ]
  },
  {
   "cell_type": "code",
   "execution_count": null,
   "metadata": {},
   "outputs": [],
   "source": [
    "cheat_saving = {}\n",
    "for idx_cheat_a, idx_cheat_b, dist in node_cheat_pairs:\n",
    "    cheat_saving[(idx_cheat_a, idx_cheat_b)] = (\n",
    "        abs(ref_path_dist[idx_cheat_a] - ref_path_dist[idx_cheat_b]) - dist\n",
    "    )"
   ]
  },
  {
   "cell_type": "code",
   "execution_count": null,
   "metadata": {},
   "outputs": [],
   "source": [
    "sum([x >= 100 for x in cheat_saving.values()])"
   ]
  }
 ],
 "metadata": {
  "kernelspec": {
   "display_name": "env",
   "language": "python",
   "name": "python3"
  },
  "language_info": {
   "codemirror_mode": {
    "name": "ipython",
    "version": 3
   },
   "file_extension": ".py",
   "mimetype": "text/x-python",
   "name": "python",
   "nbconvert_exporter": "python",
   "pygments_lexer": "ipython3",
   "version": "3.12.1"
  }
 },
 "nbformat": 4,
 "nbformat_minor": 2
}
