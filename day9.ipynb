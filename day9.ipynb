{
 "cells": [
  {
   "cell_type": "code",
   "execution_count": null,
   "metadata": {},
   "outputs": [],
   "source": [
    "from tqdm.auto import tqdm"
   ]
  },
  {
   "cell_type": "markdown",
   "metadata": {},
   "source": [
    "## Part 1"
   ]
  },
  {
   "cell_type": "code",
   "execution_count": null,
   "metadata": {},
   "outputs": [],
   "source": [
    "with open(\"data/day9/input.txt\", \"r\") as file:\n",
    "    map_raw = file.read()"
   ]
  },
  {
   "cell_type": "code",
   "execution_count": null,
   "metadata": {},
   "outputs": [],
   "source": [
    "map = [int(x) for x in map_raw]"
   ]
  },
  {
   "cell_type": "code",
   "execution_count": null,
   "metadata": {},
   "outputs": [],
   "source": [
    "id = 0\n",
    "blocks = []\n",
    "for i, block in enumerate(map):\n",
    "    if i % 2 == 0:\n",
    "        blocks.extend([id] * block)\n",
    "        id += 1\n",
    "    elif i % 2 == 1:\n",
    "        blocks.extend([None] * block)"
   ]
  },
  {
   "cell_type": "code",
   "execution_count": null,
   "metadata": {},
   "outputs": [],
   "source": [
    "blocks_sorted1 = blocks.copy()\n",
    "full_inds = [i for i, block in enumerate(blocks_sorted1) if block is not None]\n",
    "empty_inds = [i for i, block in enumerate(blocks_sorted1) if block is None]\n",
    "swap_inds = []\n",
    "for full_ind, empty_ind in zip(reversed(full_inds), empty_inds):\n",
    "    if full_ind > empty_ind:\n",
    "        blocks_sorted1[full_ind], blocks_sorted1[empty_ind] = (\n",
    "            blocks_sorted1[empty_ind],\n",
    "            blocks_sorted1[full_ind],\n",
    "        )"
   ]
  },
  {
   "cell_type": "code",
   "execution_count": null,
   "metadata": {},
   "outputs": [],
   "source": [
    "sum([i * int(id) for i, id in enumerate(blocks_sorted1) if id is not None])"
   ]
  },
  {
   "cell_type": "markdown",
   "metadata": {},
   "source": [
    "## Part 2"
   ]
  },
  {
   "cell_type": "code",
   "execution_count": null,
   "metadata": {},
   "outputs": [],
   "source": [
    "blocks_sorted2 = blocks.copy()\n",
    "for id in tqdm(range(max([x for x in blocks_sorted2 if isinstance(x, int)]), -1, -1)):\n",
    "    full_inds = [i for i, block in enumerate(blocks_sorted2) if block == id]\n",
    "    id_size = len(full_inds)\n",
    "    pot_empty_inds = [i for i, block in enumerate(blocks_sorted2) if block is None]\n",
    "    for i in range(len(pot_empty_inds) - id_size):\n",
    "        pot_empty_inds_curr = pot_empty_inds[i : i + id_size]\n",
    "        if (pot_empty_inds_curr[-1] - pot_empty_inds_curr[0] + 1) == id_size and max(\n",
    "            pot_empty_inds_curr\n",
    "        ) < max(full_inds):\n",
    "            for j in full_inds:\n",
    "                blocks_sorted2[j] = None\n",
    "            for j in pot_empty_inds_curr:\n",
    "                blocks_sorted2[j] = id\n",
    "            break"
   ]
  },
  {
   "cell_type": "code",
   "execution_count": null,
   "metadata": {},
   "outputs": [],
   "source": [
    "sum([i * int(id) for i, id in enumerate(blocks_sorted2) if id is not None])"
   ]
  }
 ],
 "metadata": {
  "kernelspec": {
   "display_name": "env",
   "language": "python",
   "name": "python3"
  },
  "language_info": {
   "codemirror_mode": {
    "name": "ipython",
    "version": 3
   },
   "file_extension": ".py",
   "mimetype": "text/x-python",
   "name": "python",
   "nbconvert_exporter": "python",
   "pygments_lexer": "ipython3",
   "version": "3.12.1"
  }
 },
 "nbformat": 4,
 "nbformat_minor": 2
}
